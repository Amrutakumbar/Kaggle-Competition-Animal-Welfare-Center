{
 "cells": [
  {
   "cell_type": "markdown",
   "metadata": {},
   "source": [
    "# IMPORT THE LIBRARIES"
   ]
  },
  {
   "cell_type": "code",
   "execution_count": 1,
   "metadata": {},
   "outputs": [],
   "source": [
    "import pandas as pd\n",
    "import numpy as np\n",
    "import matplotlib.pyplot as plt\n",
    "%matplotlib inline"
   ]
  },
  {
   "cell_type": "markdown",
   "metadata": {},
   "source": [
    "# LOAD THE DATASET"
   ]
  },
  {
   "cell_type": "code",
   "execution_count": 2,
   "metadata": {},
   "outputs": [
    {
     "data": {
      "text/html": [
       "<div>\n",
       "<style scoped>\n",
       "    .dataframe tbody tr th:only-of-type {\n",
       "        vertical-align: middle;\n",
       "    }\n",
       "\n",
       "    .dataframe tbody tr th {\n",
       "        vertical-align: top;\n",
       "    }\n",
       "\n",
       "    .dataframe thead th {\n",
       "        text-align: right;\n",
       "    }\n",
       "</style>\n",
       "<table border=\"1\" class=\"dataframe\">\n",
       "  <thead>\n",
       "    <tr style=\"text-align: right;\">\n",
       "      <th></th>\n",
       "      <th>animal_id_outcome</th>\n",
       "      <th>dob_year</th>\n",
       "      <th>dob_month</th>\n",
       "      <th>age_upon_intake</th>\n",
       "      <th>animal_type</th>\n",
       "      <th>breed</th>\n",
       "      <th>color</th>\n",
       "      <th>intake_condition</th>\n",
       "      <th>intake_type</th>\n",
       "      <th>sex_upon_intake</th>\n",
       "      <th>...</th>\n",
       "      <th>age_upon_outcome_(years)</th>\n",
       "      <th>age_upon_outcome_age_group</th>\n",
       "      <th>outcome_datetime</th>\n",
       "      <th>outcome_month</th>\n",
       "      <th>outcome_year</th>\n",
       "      <th>outcome_monthyear</th>\n",
       "      <th>outcome_weekday</th>\n",
       "      <th>outcome_hour</th>\n",
       "      <th>outcome_number</th>\n",
       "      <th>outcome_type</th>\n",
       "    </tr>\n",
       "  </thead>\n",
       "  <tbody>\n",
       "    <tr>\n",
       "      <th>0</th>\n",
       "      <td>A006100</td>\n",
       "      <td>2007</td>\n",
       "      <td>7</td>\n",
       "      <td>10 years</td>\n",
       "      <td>Dog</td>\n",
       "      <td>Spinone Italiano Mix</td>\n",
       "      <td>Yellow/White</td>\n",
       "      <td>Normal</td>\n",
       "      <td>Stray</td>\n",
       "      <td>Neutered Male</td>\n",
       "      <td>...</td>\n",
       "      <td>10.0</td>\n",
       "      <td>(7.5, 10.0]</td>\n",
       "      <td>2017-12-07 14:07:00</td>\n",
       "      <td>12</td>\n",
       "      <td>2017</td>\n",
       "      <td>2017-12</td>\n",
       "      <td>Thursday</td>\n",
       "      <td>0</td>\n",
       "      <td>1.0</td>\n",
       "      <td>Return to Owner</td>\n",
       "    </tr>\n",
       "    <tr>\n",
       "      <th>1</th>\n",
       "      <td>A006100</td>\n",
       "      <td>2007</td>\n",
       "      <td>7</td>\n",
       "      <td>7 years</td>\n",
       "      <td>Dog</td>\n",
       "      <td>Spinone Italiano Mix</td>\n",
       "      <td>Yellow/White</td>\n",
       "      <td>Normal</td>\n",
       "      <td>Public Assist</td>\n",
       "      <td>Neutered Male</td>\n",
       "      <td>...</td>\n",
       "      <td>7.0</td>\n",
       "      <td>(5.0, 7.5]</td>\n",
       "      <td>2014-12-20 16:35:00</td>\n",
       "      <td>12</td>\n",
       "      <td>2014</td>\n",
       "      <td>2014-12</td>\n",
       "      <td>Saturday</td>\n",
       "      <td>16</td>\n",
       "      <td>2.0</td>\n",
       "      <td>Return to Owner</td>\n",
       "    </tr>\n",
       "    <tr>\n",
       "      <th>2</th>\n",
       "      <td>A006100</td>\n",
       "      <td>2007</td>\n",
       "      <td>7</td>\n",
       "      <td>6 years</td>\n",
       "      <td>Dog</td>\n",
       "      <td>Spinone Italiano Mix</td>\n",
       "      <td>Yellow/White</td>\n",
       "      <td>Normal</td>\n",
       "      <td>Public Assist</td>\n",
       "      <td>Neutered Male</td>\n",
       "      <td>...</td>\n",
       "      <td>6.0</td>\n",
       "      <td>(5.0, 7.5]</td>\n",
       "      <td>NaN</td>\n",
       "      <td>3</td>\n",
       "      <td>2014</td>\n",
       "      <td>2014-03</td>\n",
       "      <td>Saturday</td>\n",
       "      <td>17</td>\n",
       "      <td>3.0</td>\n",
       "      <td>Return to Owner</td>\n",
       "    </tr>\n",
       "    <tr>\n",
       "      <th>3</th>\n",
       "      <td>A047759</td>\n",
       "      <td>2004</td>\n",
       "      <td>4</td>\n",
       "      <td>10 years</td>\n",
       "      <td>Dog</td>\n",
       "      <td>Dachshund</td>\n",
       "      <td>Tricolor</td>\n",
       "      <td>Normal</td>\n",
       "      <td>Owner Surrender</td>\n",
       "      <td>Neutered Male</td>\n",
       "      <td>...</td>\n",
       "      <td>10.0</td>\n",
       "      <td>(7.5, 10.0]</td>\n",
       "      <td>2014-04-07 15:12:00</td>\n",
       "      <td>4</td>\n",
       "      <td>2014</td>\n",
       "      <td>2014-04</td>\n",
       "      <td>Monday</td>\n",
       "      <td>15</td>\n",
       "      <td>1.0</td>\n",
       "      <td>Missing</td>\n",
       "    </tr>\n",
       "    <tr>\n",
       "      <th>4</th>\n",
       "      <td>A134067</td>\n",
       "      <td>1997</td>\n",
       "      <td>10</td>\n",
       "      <td>16 years</td>\n",
       "      <td>Dog</td>\n",
       "      <td>Shetland Sheepdog</td>\n",
       "      <td>Brown/White</td>\n",
       "      <td>Injured</td>\n",
       "      <td>Public Assist</td>\n",
       "      <td>Neutered Male</td>\n",
       "      <td>...</td>\n",
       "      <td>16.0</td>\n",
       "      <td>(15.0, 17.5]</td>\n",
       "      <td>2013-11-16 11:54:00</td>\n",
       "      <td>11</td>\n",
       "      <td>2013</td>\n",
       "      <td>2013-11</td>\n",
       "      <td>Saturday</td>\n",
       "      <td>11</td>\n",
       "      <td>1.0</td>\n",
       "      <td>Return to Owner</td>\n",
       "    </tr>\n",
       "    <tr>\n",
       "      <th>...</th>\n",
       "      <td>...</td>\n",
       "      <td>...</td>\n",
       "      <td>...</td>\n",
       "      <td>...</td>\n",
       "      <td>...</td>\n",
       "      <td>...</td>\n",
       "      <td>...</td>\n",
       "      <td>...</td>\n",
       "      <td>...</td>\n",
       "      <td>...</td>\n",
       "      <td>...</td>\n",
       "      <td>...</td>\n",
       "      <td>...</td>\n",
       "      <td>...</td>\n",
       "      <td>...</td>\n",
       "      <td>...</td>\n",
       "      <td>...</td>\n",
       "      <td>...</td>\n",
       "      <td>...</td>\n",
       "      <td>...</td>\n",
       "      <td>...</td>\n",
       "    </tr>\n",
       "    <tr>\n",
       "      <th>47798</th>\n",
       "      <td>A723128</td>\n",
       "      <td>2007</td>\n",
       "      <td>9</td>\n",
       "      <td>8 years</td>\n",
       "      <td>Cat</td>\n",
       "      <td>Domestic Longhair Mix</td>\n",
       "      <td>Black/White</td>\n",
       "      <td>Normal</td>\n",
       "      <td>Stray</td>\n",
       "      <td>Neutered Male</td>\n",
       "      <td>...</td>\n",
       "      <td>8.0</td>\n",
       "      <td>(7.5, 10.0]</td>\n",
       "      <td>2016-04-18 00:00:00</td>\n",
       "      <td>4</td>\n",
       "      <td>2016</td>\n",
       "      <td>2016-04</td>\n",
       "      <td>Monday</td>\n",
       "      <td>0</td>\n",
       "      <td>1.0</td>\n",
       "      <td>Rto-Adopt</td>\n",
       "    </tr>\n",
       "    <tr>\n",
       "      <th>47799</th>\n",
       "      <td>A723129</td>\n",
       "      <td>2015</td>\n",
       "      <td>3</td>\n",
       "      <td>1 year</td>\n",
       "      <td>Dog</td>\n",
       "      <td>Cairn Terrier Mix</td>\n",
       "      <td>Gray/White</td>\n",
       "      <td>Normal</td>\n",
       "      <td>Owner Surrender</td>\n",
       "      <td>Intact Male</td>\n",
       "      <td>...</td>\n",
       "      <td>1.0</td>\n",
       "      <td>(-0.025, 2.5]</td>\n",
       "      <td>NaN</td>\n",
       "      <td>3</td>\n",
       "      <td>2016</td>\n",
       "      <td>2016-03</td>\n",
       "      <td>Tuesday</td>\n",
       "      <td>19</td>\n",
       "      <td>1.0</td>\n",
       "      <td>Adoption</td>\n",
       "    </tr>\n",
       "    <tr>\n",
       "      <th>47800</th>\n",
       "      <td>A723130</td>\n",
       "      <td>2005</td>\n",
       "      <td>3</td>\n",
       "      <td>11 years</td>\n",
       "      <td>Dog</td>\n",
       "      <td>Shetland Sheepdog Mix</td>\n",
       "      <td>Brown/Tan</td>\n",
       "      <td>Normal</td>\n",
       "      <td>Stray</td>\n",
       "      <td>Spayed Female</td>\n",
       "      <td>...</td>\n",
       "      <td>11.0</td>\n",
       "      <td>(10.0, 12.5]</td>\n",
       "      <td>2016-03-27 17:07:00</td>\n",
       "      <td>3</td>\n",
       "      <td>2016</td>\n",
       "      <td>2016-03</td>\n",
       "      <td>Sunday</td>\n",
       "      <td>17</td>\n",
       "      <td>1.0</td>\n",
       "      <td>Return to Owner</td>\n",
       "    </tr>\n",
       "    <tr>\n",
       "      <th>47801</th>\n",
       "      <td>A723131</td>\n",
       "      <td>2011</td>\n",
       "      <td>3</td>\n",
       "      <td>5 years</td>\n",
       "      <td>Dog</td>\n",
       "      <td>Boxer/Catahoula</td>\n",
       "      <td>Brown Brindle/White</td>\n",
       "      <td>Normal</td>\n",
       "      <td>Stray</td>\n",
       "      <td>Intact Male</td>\n",
       "      <td>...</td>\n",
       "      <td>5.0</td>\n",
       "      <td>(2.5, 5.0]</td>\n",
       "      <td>2016-04-09 13:37:00</td>\n",
       "      <td>4</td>\n",
       "      <td>2016</td>\n",
       "      <td>2016-04</td>\n",
       "      <td>Saturday</td>\n",
       "      <td>13</td>\n",
       "      <td>1.0</td>\n",
       "      <td>Adoption</td>\n",
       "    </tr>\n",
       "    <tr>\n",
       "      <th>47802</th>\n",
       "      <td>A723132</td>\n",
       "      <td>2015</td>\n",
       "      <td>3</td>\n",
       "      <td>1 year</td>\n",
       "      <td>Other</td>\n",
       "      <td>Opossum</td>\n",
       "      <td>Gray</td>\n",
       "      <td>Injured</td>\n",
       "      <td>Wildlife</td>\n",
       "      <td>Unknown</td>\n",
       "      <td>...</td>\n",
       "      <td>1.0</td>\n",
       "      <td>(-0.025, 2.5]</td>\n",
       "      <td>NaN</td>\n",
       "      <td>3</td>\n",
       "      <td>2016</td>\n",
       "      <td>2016-03</td>\n",
       "      <td>Sunday</td>\n",
       "      <td>12</td>\n",
       "      <td>1.0</td>\n",
       "      <td>Euthanasia</td>\n",
       "    </tr>\n",
       "  </tbody>\n",
       "</table>\n",
       "<p>47803 rows × 37 columns</p>\n",
       "</div>"
      ],
      "text/plain": [
       "      animal_id_outcome  dob_year  dob_month age_upon_intake animal_type  \\\n",
       "0               A006100      2007          7        10 years         Dog   \n",
       "1               A006100      2007          7         7 years         Dog   \n",
       "2               A006100      2007          7         6 years         Dog   \n",
       "3               A047759      2004          4        10 years         Dog   \n",
       "4               A134067      1997         10        16 years         Dog   \n",
       "...                 ...       ...        ...             ...         ...   \n",
       "47798           A723128      2007          9         8 years         Cat   \n",
       "47799           A723129      2015          3          1 year         Dog   \n",
       "47800           A723130      2005          3        11 years         Dog   \n",
       "47801           A723131      2011          3         5 years         Dog   \n",
       "47802           A723132      2015          3          1 year       Other   \n",
       "\n",
       "                       breed                color intake_condition  \\\n",
       "0       Spinone Italiano Mix         Yellow/White           Normal   \n",
       "1       Spinone Italiano Mix         Yellow/White           Normal   \n",
       "2       Spinone Italiano Mix         Yellow/White           Normal   \n",
       "3                  Dachshund             Tricolor           Normal   \n",
       "4          Shetland Sheepdog          Brown/White          Injured   \n",
       "...                      ...                  ...              ...   \n",
       "47798  Domestic Longhair Mix          Black/White           Normal   \n",
       "47799      Cairn Terrier Mix           Gray/White           Normal   \n",
       "47800  Shetland Sheepdog Mix            Brown/Tan           Normal   \n",
       "47801        Boxer/Catahoula  Brown Brindle/White           Normal   \n",
       "47802                Opossum                 Gray          Injured   \n",
       "\n",
       "           intake_type sex_upon_intake  ...  age_upon_outcome_(years)  \\\n",
       "0                Stray   Neutered Male  ...                      10.0   \n",
       "1        Public Assist   Neutered Male  ...                       7.0   \n",
       "2        Public Assist   Neutered Male  ...                       6.0   \n",
       "3      Owner Surrender   Neutered Male  ...                      10.0   \n",
       "4        Public Assist   Neutered Male  ...                      16.0   \n",
       "...                ...             ...  ...                       ...   \n",
       "47798            Stray   Neutered Male  ...                       8.0   \n",
       "47799  Owner Surrender     Intact Male  ...                       1.0   \n",
       "47800            Stray   Spayed Female  ...                      11.0   \n",
       "47801            Stray     Intact Male  ...                       5.0   \n",
       "47802         Wildlife         Unknown  ...                       1.0   \n",
       "\n",
       "       age_upon_outcome_age_group     outcome_datetime outcome_month  \\\n",
       "0                     (7.5, 10.0]  2017-12-07 14:07:00            12   \n",
       "1                      (5.0, 7.5]  2014-12-20 16:35:00            12   \n",
       "2                      (5.0, 7.5]                  NaN             3   \n",
       "3                     (7.5, 10.0]  2014-04-07 15:12:00             4   \n",
       "4                    (15.0, 17.5]  2013-11-16 11:54:00            11   \n",
       "...                           ...                  ...           ...   \n",
       "47798                 (7.5, 10.0]  2016-04-18 00:00:00             4   \n",
       "47799               (-0.025, 2.5]                  NaN             3   \n",
       "47800                (10.0, 12.5]  2016-03-27 17:07:00             3   \n",
       "47801                  (2.5, 5.0]  2016-04-09 13:37:00             4   \n",
       "47802               (-0.025, 2.5]                  NaN             3   \n",
       "\n",
       "      outcome_year  outcome_monthyear  outcome_weekday outcome_hour  \\\n",
       "0             2017            2017-12         Thursday            0   \n",
       "1             2014            2014-12         Saturday           16   \n",
       "2             2014            2014-03         Saturday           17   \n",
       "3             2014            2014-04           Monday           15   \n",
       "4             2013            2013-11         Saturday           11   \n",
       "...            ...                ...              ...          ...   \n",
       "47798         2016            2016-04           Monday            0   \n",
       "47799         2016            2016-03          Tuesday           19   \n",
       "47800         2016            2016-03           Sunday           17   \n",
       "47801         2016            2016-04         Saturday           13   \n",
       "47802         2016            2016-03           Sunday           12   \n",
       "\n",
       "      outcome_number     outcome_type  \n",
       "0                1.0  Return to Owner  \n",
       "1                2.0  Return to Owner  \n",
       "2                3.0  Return to Owner  \n",
       "3                1.0          Missing  \n",
       "4                1.0  Return to Owner  \n",
       "...              ...              ...  \n",
       "47798            1.0        Rto-Adopt  \n",
       "47799            1.0         Adoption  \n",
       "47800            1.0  Return to Owner  \n",
       "47801            1.0         Adoption  \n",
       "47802            1.0       Euthanasia  \n",
       "\n",
       "[47803 rows x 37 columns]"
      ]
     },
     "execution_count": 2,
     "metadata": {},
     "output_type": "execute_result"
    }
   ],
   "source": [
    "train = pd.read_csv(\"train.csv\",encoding=\"ISO-8859-1\")\n",
    "train"
   ]
  },
  {
   "cell_type": "code",
   "execution_count": 3,
   "metadata": {},
   "outputs": [
    {
     "data": {
      "text/html": [
       "<div>\n",
       "<style scoped>\n",
       "    .dataframe tbody tr th:only-of-type {\n",
       "        vertical-align: middle;\n",
       "    }\n",
       "\n",
       "    .dataframe tbody tr th {\n",
       "        vertical-align: top;\n",
       "    }\n",
       "\n",
       "    .dataframe thead th {\n",
       "        text-align: right;\n",
       "    }\n",
       "</style>\n",
       "<table border=\"1\" class=\"dataframe\">\n",
       "  <thead>\n",
       "    <tr style=\"text-align: right;\">\n",
       "      <th></th>\n",
       "      <th>animal_id_outcome</th>\n",
       "      <th>dob_year</th>\n",
       "      <th>dob_month</th>\n",
       "      <th>age_upon_intake</th>\n",
       "      <th>animal_type</th>\n",
       "      <th>breed</th>\n",
       "      <th>color</th>\n",
       "      <th>intake_condition</th>\n",
       "      <th>intake_type</th>\n",
       "      <th>sex_upon_intake</th>\n",
       "      <th>...</th>\n",
       "      <th>age_upon_outcome_(days)</th>\n",
       "      <th>age_upon_outcome_(years)</th>\n",
       "      <th>age_upon_outcome_age_group</th>\n",
       "      <th>outcome_datetime</th>\n",
       "      <th>outcome_month</th>\n",
       "      <th>outcome_year</th>\n",
       "      <th>outcome_monthyear</th>\n",
       "      <th>outcome_weekday</th>\n",
       "      <th>outcome_hour</th>\n",
       "      <th>outcome_number</th>\n",
       "    </tr>\n",
       "  </thead>\n",
       "  <tbody>\n",
       "    <tr>\n",
       "      <th>0</th>\n",
       "      <td>A723133</td>\n",
       "      <td>2013</td>\n",
       "      <td>3</td>\n",
       "      <td>3 years</td>\n",
       "      <td>Cat</td>\n",
       "      <td>Domestic Shorthair Mix</td>\n",
       "      <td>Brown Tabby</td>\n",
       "      <td>Nursing</td>\n",
       "      <td>Stray</td>\n",
       "      <td>Intact Female</td>\n",
       "      <td>...</td>\n",
       "      <td>1095</td>\n",
       "      <td>3.000000</td>\n",
       "      <td>(2.5, 5.0]</td>\n",
       "      <td>01-04-2016 16:19</td>\n",
       "      <td>4</td>\n",
       "      <td>2016</td>\n",
       "      <td>2016-04</td>\n",
       "      <td>Friday</td>\n",
       "      <td>16</td>\n",
       "      <td>1</td>\n",
       "    </tr>\n",
       "    <tr>\n",
       "      <th>1</th>\n",
       "      <td>A723134</td>\n",
       "      <td>2016</td>\n",
       "      <td>2</td>\n",
       "      <td>4 weeks</td>\n",
       "      <td>Cat</td>\n",
       "      <td>Domestic Shorthair Mix</td>\n",
       "      <td>Brown Tabby</td>\n",
       "      <td>Nursing</td>\n",
       "      <td>Stray</td>\n",
       "      <td>Intact Female</td>\n",
       "      <td>...</td>\n",
       "      <td>60</td>\n",
       "      <td>0.164384</td>\n",
       "      <td>(-0.025, 2.5]</td>\n",
       "      <td>30-04-2016 17:42</td>\n",
       "      <td>4</td>\n",
       "      <td>2016</td>\n",
       "      <td>2016-04</td>\n",
       "      <td>Saturday</td>\n",
       "      <td>17</td>\n",
       "      <td>1</td>\n",
       "    </tr>\n",
       "    <tr>\n",
       "      <th>2</th>\n",
       "      <td>A723135</td>\n",
       "      <td>2016</td>\n",
       "      <td>2</td>\n",
       "      <td>4 weeks</td>\n",
       "      <td>Cat</td>\n",
       "      <td>Domestic Shorthair Mix</td>\n",
       "      <td>Brown Tabby</td>\n",
       "      <td>Nursing</td>\n",
       "      <td>Stray</td>\n",
       "      <td>Intact Male</td>\n",
       "      <td>...</td>\n",
       "      <td>60</td>\n",
       "      <td>0.164384</td>\n",
       "      <td>(-0.025, 2.5]</td>\n",
       "      <td>29-04-2016 00:00</td>\n",
       "      <td>4</td>\n",
       "      <td>2016</td>\n",
       "      <td>2016-04</td>\n",
       "      <td>Friday</td>\n",
       "      <td>0</td>\n",
       "      <td>1</td>\n",
       "    </tr>\n",
       "    <tr>\n",
       "      <th>3</th>\n",
       "      <td>A723136</td>\n",
       "      <td>2016</td>\n",
       "      <td>2</td>\n",
       "      <td>4 weeks</td>\n",
       "      <td>Cat</td>\n",
       "      <td>Domestic Shorthair Mix</td>\n",
       "      <td>Brown Tabby</td>\n",
       "      <td>Nursing</td>\n",
       "      <td>Stray</td>\n",
       "      <td>Intact Female</td>\n",
       "      <td>...</td>\n",
       "      <td>30</td>\n",
       "      <td>0.082192</td>\n",
       "      <td>(-0.025, 2.5]</td>\n",
       "      <td>27-04-2016 13:47</td>\n",
       "      <td>4</td>\n",
       "      <td>2016</td>\n",
       "      <td>2016-04</td>\n",
       "      <td>Wednesday</td>\n",
       "      <td>13</td>\n",
       "      <td>1</td>\n",
       "    </tr>\n",
       "    <tr>\n",
       "      <th>4</th>\n",
       "      <td>A723137</td>\n",
       "      <td>2016</td>\n",
       "      <td>2</td>\n",
       "      <td>4 weeks</td>\n",
       "      <td>Cat</td>\n",
       "      <td>Domestic Shorthair Mix</td>\n",
       "      <td>Blue Tabby</td>\n",
       "      <td>Nursing</td>\n",
       "      <td>Stray</td>\n",
       "      <td>Intact Female</td>\n",
       "      <td>...</td>\n",
       "      <td>60</td>\n",
       "      <td>0.164384</td>\n",
       "      <td>(-0.025, 2.5]</td>\n",
       "      <td>03-05-2016 11:42</td>\n",
       "      <td>5</td>\n",
       "      <td>2016</td>\n",
       "      <td>2016-05</td>\n",
       "      <td>Tuesday</td>\n",
       "      <td>11</td>\n",
       "      <td>1</td>\n",
       "    </tr>\n",
       "    <tr>\n",
       "      <th>...</th>\n",
       "      <td>...</td>\n",
       "      <td>...</td>\n",
       "      <td>...</td>\n",
       "      <td>...</td>\n",
       "      <td>...</td>\n",
       "      <td>...</td>\n",
       "      <td>...</td>\n",
       "      <td>...</td>\n",
       "      <td>...</td>\n",
       "      <td>...</td>\n",
       "      <td>...</td>\n",
       "      <td>...</td>\n",
       "      <td>...</td>\n",
       "      <td>...</td>\n",
       "      <td>...</td>\n",
       "      <td>...</td>\n",
       "      <td>...</td>\n",
       "      <td>...</td>\n",
       "      <td>...</td>\n",
       "      <td>...</td>\n",
       "      <td>...</td>\n",
       "    </tr>\n",
       "    <tr>\n",
       "      <th>31864</th>\n",
       "      <td>A769060</td>\n",
       "      <td>2018</td>\n",
       "      <td>3</td>\n",
       "      <td>2 weeks</td>\n",
       "      <td>Cat</td>\n",
       "      <td>Domestic Shorthair Mix</td>\n",
       "      <td>Tortie</td>\n",
       "      <td>Normal</td>\n",
       "      <td>Stray</td>\n",
       "      <td>Unknown</td>\n",
       "      <td>...</td>\n",
       "      <td>14</td>\n",
       "      <td>0.038356</td>\n",
       "      <td>(-0.025, 2.5]</td>\n",
       "      <td>29-03-2018 18:14</td>\n",
       "      <td>3</td>\n",
       "      <td>2018</td>\n",
       "      <td>2018-03</td>\n",
       "      <td>Thursday</td>\n",
       "      <td>18</td>\n",
       "      <td>1</td>\n",
       "    </tr>\n",
       "    <tr>\n",
       "      <th>31865</th>\n",
       "      <td>A769064</td>\n",
       "      <td>2016</td>\n",
       "      <td>3</td>\n",
       "      <td>2 years</td>\n",
       "      <td>Other</td>\n",
       "      <td>Bat Mix</td>\n",
       "      <td>Brown</td>\n",
       "      <td>Normal</td>\n",
       "      <td>Wildlife</td>\n",
       "      <td>Unknown</td>\n",
       "      <td>...</td>\n",
       "      <td>730</td>\n",
       "      <td>2.000000</td>\n",
       "      <td>(-0.025, 2.5]</td>\n",
       "      <td>29-03-2018 18:30</td>\n",
       "      <td>3</td>\n",
       "      <td>2018</td>\n",
       "      <td>2018-03</td>\n",
       "      <td>Thursday</td>\n",
       "      <td>18</td>\n",
       "      <td>1</td>\n",
       "    </tr>\n",
       "    <tr>\n",
       "      <th>31866</th>\n",
       "      <td>A769065</td>\n",
       "      <td>2017</td>\n",
       "      <td>3</td>\n",
       "      <td>1 year</td>\n",
       "      <td>Other</td>\n",
       "      <td>Bat Mix</td>\n",
       "      <td>Brown</td>\n",
       "      <td>Normal</td>\n",
       "      <td>Wildlife</td>\n",
       "      <td>Unknown</td>\n",
       "      <td>...</td>\n",
       "      <td>365</td>\n",
       "      <td>1.000000</td>\n",
       "      <td>(-0.025, 2.5]</td>\n",
       "      <td>29-03-2018 18:28</td>\n",
       "      <td>3</td>\n",
       "      <td>2018</td>\n",
       "      <td>2018-03</td>\n",
       "      <td>Thursday</td>\n",
       "      <td>18</td>\n",
       "      <td>1</td>\n",
       "    </tr>\n",
       "    <tr>\n",
       "      <th>31867</th>\n",
       "      <td>A769066</td>\n",
       "      <td>2017</td>\n",
       "      <td>5</td>\n",
       "      <td>5 months</td>\n",
       "      <td>Dog</td>\n",
       "      <td>Labrador Retriever Mix</td>\n",
       "      <td>Black/White</td>\n",
       "      <td>Normal</td>\n",
       "      <td>Stray</td>\n",
       "      <td>Intact Male</td>\n",
       "      <td>...</td>\n",
       "      <td>300</td>\n",
       "      <td>0.821918</td>\n",
       "      <td>(-0.025, 2.5]</td>\n",
       "      <td>31-03-2018 12:37</td>\n",
       "      <td>3</td>\n",
       "      <td>2018</td>\n",
       "      <td>2018-03</td>\n",
       "      <td>Saturday</td>\n",
       "      <td>12</td>\n",
       "      <td>1</td>\n",
       "    </tr>\n",
       "    <tr>\n",
       "      <th>31868</th>\n",
       "      <td>A769067</td>\n",
       "      <td>2008</td>\n",
       "      <td>3</td>\n",
       "      <td>10 years</td>\n",
       "      <td>Dog</td>\n",
       "      <td>Boxer Mix</td>\n",
       "      <td>Brown Brindle</td>\n",
       "      <td>Aged</td>\n",
       "      <td>Stray</td>\n",
       "      <td>Spayed Female</td>\n",
       "      <td>...</td>\n",
       "      <td>3650</td>\n",
       "      <td>10.000000</td>\n",
       "      <td>(7.5, 10.0]</td>\n",
       "      <td>30-03-2018 13:52</td>\n",
       "      <td>3</td>\n",
       "      <td>2018</td>\n",
       "      <td>2018-03</td>\n",
       "      <td>Friday</td>\n",
       "      <td>13</td>\n",
       "      <td>1</td>\n",
       "    </tr>\n",
       "  </tbody>\n",
       "</table>\n",
       "<p>31869 rows × 36 columns</p>\n",
       "</div>"
      ],
      "text/plain": [
       "      animal_id_outcome  dob_year  dob_month age_upon_intake animal_type  \\\n",
       "0               A723133      2013          3         3 years         Cat   \n",
       "1               A723134      2016          2         4 weeks         Cat   \n",
       "2               A723135      2016          2         4 weeks         Cat   \n",
       "3               A723136      2016          2         4 weeks         Cat   \n",
       "4               A723137      2016          2         4 weeks         Cat   \n",
       "...                 ...       ...        ...             ...         ...   \n",
       "31864           A769060      2018          3         2 weeks         Cat   \n",
       "31865           A769064      2016          3         2 years       Other   \n",
       "31866           A769065      2017          3          1 year       Other   \n",
       "31867           A769066      2017          5        5 months         Dog   \n",
       "31868           A769067      2008          3        10 years         Dog   \n",
       "\n",
       "                        breed          color intake_condition intake_type  \\\n",
       "0      Domestic Shorthair Mix    Brown Tabby          Nursing       Stray   \n",
       "1      Domestic Shorthair Mix    Brown Tabby          Nursing       Stray   \n",
       "2      Domestic Shorthair Mix    Brown Tabby          Nursing       Stray   \n",
       "3      Domestic Shorthair Mix    Brown Tabby          Nursing       Stray   \n",
       "4      Domestic Shorthair Mix     Blue Tabby          Nursing       Stray   \n",
       "...                       ...            ...              ...         ...   \n",
       "31864  Domestic Shorthair Mix         Tortie           Normal       Stray   \n",
       "31865                 Bat Mix          Brown           Normal    Wildlife   \n",
       "31866                 Bat Mix          Brown           Normal    Wildlife   \n",
       "31867  Labrador Retriever Mix    Black/White           Normal       Stray   \n",
       "31868               Boxer Mix  Brown Brindle             Aged       Stray   \n",
       "\n",
       "      sex_upon_intake  ...  age_upon_outcome_(days)  age_upon_outcome_(years)  \\\n",
       "0       Intact Female  ...                     1095                  3.000000   \n",
       "1       Intact Female  ...                       60                  0.164384   \n",
       "2         Intact Male  ...                       60                  0.164384   \n",
       "3       Intact Female  ...                       30                  0.082192   \n",
       "4       Intact Female  ...                       60                  0.164384   \n",
       "...               ...  ...                      ...                       ...   \n",
       "31864         Unknown  ...                       14                  0.038356   \n",
       "31865         Unknown  ...                      730                  2.000000   \n",
       "31866         Unknown  ...                      365                  1.000000   \n",
       "31867     Intact Male  ...                      300                  0.821918   \n",
       "31868   Spayed Female  ...                     3650                 10.000000   \n",
       "\n",
       "       age_upon_outcome_age_group  outcome_datetime outcome_month  \\\n",
       "0                      (2.5, 5.0]  01-04-2016 16:19             4   \n",
       "1                   (-0.025, 2.5]  30-04-2016 17:42             4   \n",
       "2                   (-0.025, 2.5]  29-04-2016 00:00             4   \n",
       "3                   (-0.025, 2.5]  27-04-2016 13:47             4   \n",
       "4                   (-0.025, 2.5]  03-05-2016 11:42             5   \n",
       "...                           ...               ...           ...   \n",
       "31864               (-0.025, 2.5]  29-03-2018 18:14             3   \n",
       "31865               (-0.025, 2.5]  29-03-2018 18:30             3   \n",
       "31866               (-0.025, 2.5]  29-03-2018 18:28             3   \n",
       "31867               (-0.025, 2.5]  31-03-2018 12:37             3   \n",
       "31868                 (7.5, 10.0]  30-03-2018 13:52             3   \n",
       "\n",
       "       outcome_year  outcome_monthyear outcome_weekday outcome_hour  \\\n",
       "0              2016            2016-04          Friday           16   \n",
       "1              2016            2016-04        Saturday           17   \n",
       "2              2016            2016-04          Friday            0   \n",
       "3              2016            2016-04       Wednesday           13   \n",
       "4              2016            2016-05         Tuesday           11   \n",
       "...             ...                ...             ...          ...   \n",
       "31864          2018            2018-03        Thursday           18   \n",
       "31865          2018            2018-03        Thursday           18   \n",
       "31866          2018            2018-03        Thursday           18   \n",
       "31867          2018            2018-03        Saturday           12   \n",
       "31868          2018            2018-03          Friday           13   \n",
       "\n",
       "       outcome_number  \n",
       "0                   1  \n",
       "1                   1  \n",
       "2                   1  \n",
       "3                   1  \n",
       "4                   1  \n",
       "...               ...  \n",
       "31864               1  \n",
       "31865               1  \n",
       "31866               1  \n",
       "31867               1  \n",
       "31868               1  \n",
       "\n",
       "[31869 rows x 36 columns]"
      ]
     },
     "execution_count": 3,
     "metadata": {},
     "output_type": "execute_result"
    }
   ],
   "source": [
    "test = pd.read_csv(\"test.csv\",encoding=\"ISO-8859-1\")\n",
    "test"
   ]
  },
  {
   "cell_type": "markdown",
   "metadata": {},
   "source": [
    "# DATA PREPROCESSING"
   ]
  },
  {
   "cell_type": "code",
   "execution_count": 4,
   "metadata": {},
   "outputs": [
    {
     "name": "stdout",
     "output_type": "stream",
     "text": [
      "<class 'pandas.core.frame.DataFrame'>\n",
      "RangeIndex: 47803 entries, 0 to 47802\n",
      "Data columns (total 37 columns):\n",
      " #   Column                      Non-Null Count  Dtype  \n",
      "---  ------                      --------------  -----  \n",
      " 0   animal_id_outcome           47803 non-null  object \n",
      " 1   dob_year                    47803 non-null  int64  \n",
      " 2   dob_month                   47803 non-null  int64  \n",
      " 3   age_upon_intake             47803 non-null  object \n",
      " 4   animal_type                 47803 non-null  object \n",
      " 5   breed                       47803 non-null  object \n",
      " 6   color                       47803 non-null  object \n",
      " 7   intake_condition            47803 non-null  object \n",
      " 8   intake_type                 47803 non-null  object \n",
      " 9   sex_upon_intake             47802 non-null  object \n",
      " 10  count                       47803 non-null  int64  \n",
      " 11  age_upon_intake_(days)      47803 non-null  int64  \n",
      " 12  age_upon_intake_(years)     47803 non-null  float64\n",
      " 13  age_upon_intake_age_group   47803 non-null  object \n",
      " 14  intake_datetime             47803 non-null  object \n",
      " 15  intake_month                47803 non-null  int64  \n",
      " 16  intake_year                 47803 non-null  int64  \n",
      " 17  intake_monthyear            47803 non-null  object \n",
      " 18  intake_weekday              47803 non-null  object \n",
      " 19  intake_hour                 47803 non-null  int64  \n",
      " 20  intake_number               47803 non-null  float64\n",
      " 21  time_in_shelter             47803 non-null  object \n",
      " 22  time_in_shelter_days        47803 non-null  float64\n",
      " 23  age_upon_outcome            47803 non-null  object \n",
      " 24  date_of_birth               47803 non-null  object \n",
      " 25  sex_upon_outcome            47802 non-null  object \n",
      " 26  age_upon_outcome_(days)     47803 non-null  int64  \n",
      " 27  age_upon_outcome_(years)    47803 non-null  float64\n",
      " 28  age_upon_outcome_age_group  47803 non-null  object \n",
      " 29  outcome_datetime            38184 non-null  object \n",
      " 30  outcome_month               47803 non-null  int64  \n",
      " 31  outcome_year                47803 non-null  int64  \n",
      " 32  outcome_monthyear           47803 non-null  object \n",
      " 33  outcome_weekday             47803 non-null  object \n",
      " 34  outcome_hour                47803 non-null  int64  \n",
      " 35  outcome_number              47803 non-null  float64\n",
      " 36  outcome_type                47803 non-null  object \n",
      "dtypes: float64(5), int64(11), object(21)\n",
      "memory usage: 13.5+ MB\n"
     ]
    }
   ],
   "source": [
    "train.info()"
   ]
  },
  {
   "cell_type": "markdown",
   "metadata": {},
   "source": [
    "## Relation between columns and their visualisation"
   ]
  },
  {
   "cell_type": "code",
   "execution_count": 5,
   "metadata": {},
   "outputs": [
    {
     "data": {
      "text/plain": [
       "<AxesSubplot:xlabel='animal_id_outcome', ylabel='count'>"
      ]
     },
     "execution_count": 5,
     "metadata": {},
     "output_type": "execute_result"
    },
    {
     "data": {
      "image/png": "[encoded data removed]",
      "text/plain": [
       "<Figure size 432x288 with 1 Axes>"
      ]
     },
     "metadata": {
      "needs_background": "light"
     },
     "output_type": "display_data"
    }
   ],
   "source": [
    "import seaborn as sns\n",
    "sns.countplot(x='animal_id_outcome', data=train)"
   ]
  },
  {
   "cell_type": "code",
   "execution_count": 6,
   "metadata": {},
   "outputs": [
    {
     "data": {
      "text/plain": [
       "<AxesSubplot:xlabel='animal_type', ylabel='count'>"
      ]
     },
     "execution_count": 6,
     "metadata": {},
     "output_type": "execute_result"
    },
    {
     "data": {
      "image/png": "[encoded data removed]",
      "text/plain": [
       "<Figure size 432x288 with 1 Axes>"
      ]
     },
     "metadata": {
      "needs_background": "light"
     },
     "output_type": "display_data"
    }
   ],
   "source": [
    "import seaborn as sns\n",
    "sns.countplot(x='animal_type', data=train)"
   ]
  },
  {
   "cell_type": "markdown",
   "metadata": {},
   "source": [
    "## Checking for Null values"
   ]
  },
  {
   "cell_type": "code",
   "execution_count": 7,
   "metadata": {},
   "outputs": [
    {
     "data": {
      "text/plain": [
       "animal_id_outcome                0\n",
       "dob_year                         0\n",
       "dob_month                        0\n",
       "age_upon_intake                  0\n",
       "animal_type                      0\n",
       "breed                            0\n",
       "color                            0\n",
       "intake_condition                 0\n",
       "intake_type                      0\n",
       "sex_upon_intake                  1\n",
       "count                            0\n",
       "age_upon_intake_(days)           0\n",
       "age_upon_intake_(years)          0\n",
       "age_upon_intake_age_group        0\n",
       "intake_datetime                  0\n",
       "intake_month                     0\n",
       "intake_year                      0\n",
       "intake_monthyear                 0\n",
       "intake_weekday                   0\n",
       "intake_hour                      0\n",
       "intake_number                    0\n",
       "time_in_shelter                  0\n",
       "time_in_shelter_days             0\n",
       "age_upon_outcome                 0\n",
       "date_of_birth                    0\n",
       "sex_upon_outcome                 1\n",
       "age_upon_outcome_(days)          0\n",
       "age_upon_outcome_(years)         0\n",
       "age_upon_outcome_age_group       0\n",
       "outcome_datetime              9619\n",
       "outcome_month                    0\n",
       "outcome_year                     0\n",
       "outcome_monthyear                0\n",
       "outcome_weekday                  0\n",
       "outcome_hour                     0\n",
       "outcome_number                   0\n",
       "outcome_type                     0\n",
       "dtype: int64"
      ]
     },
     "execution_count": 7,
     "metadata": {},
     "output_type": "execute_result"
    }
   ],
   "source": [
    "train.isna().sum()"
   ]
  },
  {
   "cell_type": "raw",
   "metadata": {},
   "source": [
    "import missingno as msno\n",
    "msno.bar(train)"
   ]
  },
  {
   "cell_type": "code",
   "execution_count": 8,
   "metadata": {},
   "outputs": [
    {
     "name": "stdout",
     "output_type": "stream",
     "text": [
      "PERCENTAGE OF MISSING VALUES\n"
     ]
    },
    {
     "data": {
      "text/plain": [
       "animal_id_outcome              0.000000\n",
       "dob_year                       0.000000\n",
       "dob_month                      0.000000\n",
       "age_upon_intake                0.000000\n",
       "animal_type                    0.000000\n",
       "breed                          0.000000\n",
       "color                          0.000000\n",
       "intake_condition               0.000000\n",
       "intake_type                    0.000000\n",
       "sex_upon_intake                0.002092\n",
       "count                          0.000000\n",
       "age_upon_intake_(days)         0.000000\n",
       "age_upon_intake_(years)        0.000000\n",
       "age_upon_intake_age_group      0.000000\n",
       "intake_datetime                0.000000\n",
       "intake_month                   0.000000\n",
       "intake_year                    0.000000\n",
       "intake_monthyear               0.000000\n",
       "intake_weekday                 0.000000\n",
       "intake_hour                    0.000000\n",
       "intake_number                  0.000000\n",
       "time_in_shelter                0.000000\n",
       "time_in_shelter_days           0.000000\n",
       "age_upon_outcome               0.000000\n",
       "date_of_birth                  0.000000\n",
       "sex_upon_outcome               0.002092\n",
       "age_upon_outcome_(days)        0.000000\n",
       "age_upon_outcome_(years)       0.000000\n",
       "age_upon_outcome_age_group     0.000000\n",
       "outcome_datetime              20.122168\n",
       "outcome_month                  0.000000\n",
       "outcome_year                   0.000000\n",
       "outcome_monthyear              0.000000\n",
       "outcome_weekday                0.000000\n",
       "outcome_hour                   0.000000\n",
       "outcome_number                 0.000000\n",
       "outcome_type                   0.000000\n",
       "dtype: float64"
      ]
     },
     "execution_count": 8,
     "metadata": {},
     "output_type": "execute_result"
    }
   ],
   "source": [
    "#% of null values\n",
    "data_percentage=print('percentage of missing values'.upper())\n",
    "train.isna().sum()/train.shape[0]*100"
   ]
  },
  {
   "cell_type": "code",
   "execution_count": 9,
   "metadata": {},
   "outputs": [],
   "source": [
    "cateogry_columns=train.select_dtypes(include=['category']).columns.tolist()\n",
    "integer_columns=train.select_dtypes(include=['bool']).columns.tolist()\n",
    "\n",
    "for column in train:\n",
    "    if train[column].isnull().any():\n",
    "        if(column in cateogry_columns):\n",
    "            train[column]=train[column].fillna(train[column].mode()[0])\n",
    "        else:\n",
    "            train[column]=train[column].fillna(train[column].mean)"
   ]
  },
  {
   "cell_type": "code",
   "execution_count": 10,
   "metadata": {},
   "outputs": [
    {
     "data": {
      "text/plain": [
       "animal_id_outcome             0\n",
       "dob_year                      0\n",
       "dob_month                     0\n",
       "age_upon_intake               0\n",
       "animal_type                   0\n",
       "breed                         0\n",
       "color                         0\n",
       "intake_condition              0\n",
       "intake_type                   0\n",
       "sex_upon_intake               0\n",
       "count                         0\n",
       "age_upon_intake_(days)        0\n",
       "age_upon_intake_(years)       0\n",
       "age_upon_intake_age_group     0\n",
       "intake_datetime               0\n",
       "intake_month                  0\n",
       "intake_year                   0\n",
       "intake_monthyear              0\n",
       "intake_weekday                0\n",
       "intake_hour                   0\n",
       "intake_number                 0\n",
       "time_in_shelter               0\n",
       "time_in_shelter_days          0\n",
       "age_upon_outcome              0\n",
       "date_of_birth                 0\n",
       "sex_upon_outcome              0\n",
       "age_upon_outcome_(days)       0\n",
       "age_upon_outcome_(years)      0\n",
       "age_upon_outcome_age_group    0\n",
       "outcome_datetime              0\n",
       "outcome_month                 0\n",
       "outcome_year                  0\n",
       "outcome_monthyear             0\n",
       "outcome_weekday               0\n",
       "outcome_hour                  0\n",
       "outcome_number                0\n",
       "outcome_type                  0\n",
       "dtype: int64"
      ]
     },
     "execution_count": 10,
     "metadata": {},
     "output_type": "execute_result"
    }
   ],
   "source": [
    "train.isna().sum()"
   ]
  },
  {
   "cell_type": "markdown",
   "metadata": {},
   "source": [
    "+ NO NULL VALUES"
   ]
  },
  {
   "cell_type": "markdown",
   "metadata": {},
   "source": [
    "### Drop the unneccesory columns"
   ]
  },
  {
   "cell_type": "code",
   "execution_count": 11,
   "metadata": {},
   "outputs": [
    {
     "data": {
      "text/plain": [
       "Index(['animal_id_outcome', 'dob_year', 'dob_month', 'age_upon_intake',\n",
       "       'animal_type', 'breed', 'color', 'intake_condition', 'intake_type',\n",
       "       'sex_upon_intake', 'count', 'age_upon_intake_(days)',\n",
       "       'age_upon_intake_(years)', 'age_upon_intake_age_group',\n",
       "       'intake_datetime', 'intake_month', 'intake_year', 'intake_monthyear',\n",
       "       'intake_weekday', 'intake_hour', 'intake_number', 'time_in_shelter',\n",
       "       'time_in_shelter_days', 'age_upon_outcome', 'date_of_birth',\n",
       "       'sex_upon_outcome', 'age_upon_outcome_(days)',\n",
       "       'age_upon_outcome_(years)', 'age_upon_outcome_age_group',\n",
       "       'outcome_datetime', 'outcome_month', 'outcome_year',\n",
       "       'outcome_monthyear', 'outcome_weekday', 'outcome_hour',\n",
       "       'outcome_number', 'outcome_type'],\n",
       "      dtype='object')"
      ]
     },
     "execution_count": 11,
     "metadata": {},
     "output_type": "execute_result"
    }
   ],
   "source": [
    "train.columns"
   ]
  },
  {
   "cell_type": "code",
   "execution_count": 12,
   "metadata": {},
   "outputs": [],
   "source": [
    "drop=[\"outcome_datetime\",\"intake_datetime\",\n",
    "                    'date_of_birth','intake_monthyear','intake_datetime',\n",
    "                    'outcome_monthyear','outcome_datetime','time_in_shelter',\n",
    "                   'age_upon_intake','age_upon_outcome','age_upon_intake_(days)','age_upon_intake_(years)','age_upon_outcome_(days)',\n",
    "                'age_upon_outcome_(years)','intake_number','sex_upon_intake','sex_upon_outcome']\n",
    "train.drop(drop,axis=1,inplace=True)\n"
   ]
  },
  {
   "cell_type": "markdown",
   "metadata": {},
   "source": [
    "# LABEL ENCODING"
   ]
  },
  {
   "cell_type": "code",
   "execution_count": 13,
   "metadata": {},
   "outputs": [
    {
     "name": "stdout",
     "output_type": "stream",
     "text": [
      "<class 'pandas.core.frame.DataFrame'>\n",
      "RangeIndex: 47803 entries, 0 to 47802\n",
      "Data columns (total 22 columns):\n",
      " #   Column                      Non-Null Count  Dtype  \n",
      "---  ------                      --------------  -----  \n",
      " 0   animal_id_outcome           47803 non-null  object \n",
      " 1   dob_year                    47803 non-null  int64  \n",
      " 2   dob_month                   47803 non-null  int64  \n",
      " 3   animal_type                 47803 non-null  object \n",
      " 4   breed                       47803 non-null  object \n",
      " 5   color                       47803 non-null  object \n",
      " 6   intake_condition            47803 non-null  object \n",
      " 7   intake_type                 47803 non-null  object \n",
      " 8   count                       47803 non-null  int64  \n",
      " 9   age_upon_intake_age_group   47803 non-null  object \n",
      " 10  intake_month                47803 non-null  int64  \n",
      " 11  intake_year                 47803 non-null  int64  \n",
      " 12  intake_weekday              47803 non-null  object \n",
      " 13  intake_hour                 47803 non-null  int64  \n",
      " 14  time_in_shelter_days        47803 non-null  float64\n",
      " 15  age_upon_outcome_age_group  47803 non-null  object \n",
      " 16  outcome_month               47803 non-null  int64  \n",
      " 17  outcome_year                47803 non-null  int64  \n",
      " 18  outcome_weekday             47803 non-null  object \n",
      " 19  outcome_hour                47803 non-null  int64  \n",
      " 20  outcome_number              47803 non-null  float64\n",
      " 21  outcome_type                47803 non-null  object \n",
      "dtypes: float64(2), int64(9), object(11)\n",
      "memory usage: 8.0+ MB\n"
     ]
    }
   ],
   "source": [
    "train.info()"
   ]
  },
  {
   "cell_type": "code",
   "execution_count": 14,
   "metadata": {},
   "outputs": [],
   "source": [
    "from sklearn.preprocessing import LabelEncoder\n",
    "label = LabelEncoder()\n",
    "train['dob_year']=label.fit_transform(train.dob_year)\n",
    "train['dob_month']=label.fit_transform(train.dob_month)\n",
    "train['animal_type']=label.fit_transform(train.animal_type)\n",
    "train['breed']=label.fit_transform(train.breed)\n",
    "train['color']=label.fit_transform(train.color)\n",
    "train['intake_condition']=label.fit_transform(train.intake_condition)\n",
    "train['intake_type']=label.fit_transform(train.intake_type)\n",
    "#train['sex_upon_intake']=label.fit_transform(train.sex_upon_intake)\n",
    "#train['count']=label.fit_transform(train.count)\n",
    "train['age_upon_intake_age_group']=label.fit_transform(train.age_upon_intake_age_group)\n",
    "train['intake_month']=label.fit_transform(train.intake_month)\n",
    "train['intake_year']=label.fit_transform(train.intake_year)\n",
    "train['intake_weekday']=label.fit_transform(train.intake_weekday)\n",
    "train['intake_hour']=label.fit_transform(train.intake_hour)\n",
    "train['time_in_shelter_days']=label.fit_transform(train.time_in_shelter_days)\n",
    "#train['sex_upon_outcome']=label.fit_transform(train.sex_upon_outcome)\n",
    "train['age_upon_outcome_age_group']=label.fit_transform(train.age_upon_outcome_age_group)\n",
    "train['outcome_month']=label.fit_transform(train.outcome_month)\n",
    "train['outcome_year']=label.fit_transform(train.outcome_year)\n",
    "train['outcome_weekday']=label.fit_transform(train.outcome_weekday)\n",
    "train['outcome_hour']=label.fit_transform(train.outcome_hour)\n",
    "train['outcome_number']=label.fit_transform(train.outcome_number)\n",
    "train['outcome_type']=label.fit_transform(train.outcome_type)\n",
    "train['animal_id_outcome']=label.fit_transform(train.animal_id_outcome)\n",
    "\n"
   ]
  },
  {
   "cell_type": "code",
   "execution_count": 15,
   "metadata": {},
   "outputs": [
    {
     "data": {
      "text/html": [
       "<div>\n",
       "<style scoped>\n",
       "    .dataframe tbody tr th:only-of-type {\n",
       "        vertical-align: middle;\n",
       "    }\n",
       "\n",
       "    .dataframe tbody tr th {\n",
       "        vertical-align: top;\n",
       "    }\n",
       "\n",
       "    .dataframe thead th {\n",
       "        text-align: right;\n",
       "    }\n",
       "</style>\n",
       "<table border=\"1\" class=\"dataframe\">\n",
       "  <thead>\n",
       "    <tr style=\"text-align: right;\">\n",
       "      <th></th>\n",
       "      <th>animal_id_outcome</th>\n",
       "      <th>dob_year</th>\n",
       "      <th>dob_month</th>\n",
       "      <th>animal_type</th>\n",
       "      <th>breed</th>\n",
       "      <th>color</th>\n",
       "      <th>intake_condition</th>\n",
       "      <th>intake_type</th>\n",
       "      <th>count</th>\n",
       "      <th>age_upon_intake_age_group</th>\n",
       "      <th>...</th>\n",
       "      <th>intake_weekday</th>\n",
       "      <th>intake_hour</th>\n",
       "      <th>time_in_shelter_days</th>\n",
       "      <th>age_upon_outcome_age_group</th>\n",
       "      <th>outcome_month</th>\n",
       "      <th>outcome_year</th>\n",
       "      <th>outcome_weekday</th>\n",
       "      <th>outcome_hour</th>\n",
       "      <th>outcome_number</th>\n",
       "      <th>outcome_type</th>\n",
       "    </tr>\n",
       "  </thead>\n",
       "  <tbody>\n",
       "    <tr>\n",
       "      <th>0</th>\n",
       "      <td>0</td>\n",
       "      <td>15</td>\n",
       "      <td>6</td>\n",
       "      <td>2</td>\n",
       "      <td>1707</td>\n",
       "      <td>441</td>\n",
       "      <td>3</td>\n",
       "      <td>3</td>\n",
       "      <td>1</td>\n",
       "      <td>8</td>\n",
       "      <td>...</td>\n",
       "      <td>4</td>\n",
       "      <td>14</td>\n",
       "      <td>762</td>\n",
       "      <td>8</td>\n",
       "      <td>11</td>\n",
       "      <td>4</td>\n",
       "      <td>4</td>\n",
       "      <td>0</td>\n",
       "      <td>0</td>\n",
       "      <td>6</td>\n",
       "    </tr>\n",
       "    <tr>\n",
       "      <th>1</th>\n",
       "      <td>0</td>\n",
       "      <td>15</td>\n",
       "      <td>6</td>\n",
       "      <td>2</td>\n",
       "      <td>1707</td>\n",
       "      <td>441</td>\n",
       "      <td>3</td>\n",
       "      <td>2</td>\n",
       "      <td>1</td>\n",
       "      <td>7</td>\n",
       "      <td>...</td>\n",
       "      <td>0</td>\n",
       "      <td>10</td>\n",
       "      <td>1719</td>\n",
       "      <td>7</td>\n",
       "      <td>11</td>\n",
       "      <td>1</td>\n",
       "      <td>2</td>\n",
       "      <td>15</td>\n",
       "      <td>1</td>\n",
       "      <td>6</td>\n",
       "    </tr>\n",
       "    <tr>\n",
       "      <th>2</th>\n",
       "      <td>0</td>\n",
       "      <td>15</td>\n",
       "      <td>6</td>\n",
       "      <td>2</td>\n",
       "      <td>1707</td>\n",
       "      <td>441</td>\n",
       "      <td>3</td>\n",
       "      <td>2</td>\n",
       "      <td>1</td>\n",
       "      <td>7</td>\n",
       "      <td>...</td>\n",
       "      <td>0</td>\n",
       "      <td>14</td>\n",
       "      <td>1512</td>\n",
       "      <td>7</td>\n",
       "      <td>2</td>\n",
       "      <td>1</td>\n",
       "      <td>2</td>\n",
       "      <td>16</td>\n",
       "      <td>2</td>\n",
       "      <td>6</td>\n",
       "    </tr>\n",
       "    <tr>\n",
       "      <th>3</th>\n",
       "      <td>1</td>\n",
       "      <td>12</td>\n",
       "      <td>3</td>\n",
       "      <td>2</td>\n",
       "      <td>718</td>\n",
       "      <td>375</td>\n",
       "      <td>3</td>\n",
       "      <td>1</td>\n",
       "      <td>1</td>\n",
       "      <td>8</td>\n",
       "      <td>...</td>\n",
       "      <td>6</td>\n",
       "      <td>15</td>\n",
       "      <td>5082</td>\n",
       "      <td>8</td>\n",
       "      <td>3</td>\n",
       "      <td>1</td>\n",
       "      <td>1</td>\n",
       "      <td>14</td>\n",
       "      <td>0</td>\n",
       "      <td>4</td>\n",
       "    </tr>\n",
       "    <tr>\n",
       "      <th>4</th>\n",
       "      <td>2</td>\n",
       "      <td>5</td>\n",
       "      <td>9</td>\n",
       "      <td>2</td>\n",
       "      <td>1618</td>\n",
       "      <td>154</td>\n",
       "      <td>2</td>\n",
       "      <td>2</td>\n",
       "      <td>1</td>\n",
       "      <td>3</td>\n",
       "      <td>...</td>\n",
       "      <td>2</td>\n",
       "      <td>9</td>\n",
       "      <td>171</td>\n",
       "      <td>3</td>\n",
       "      <td>10</td>\n",
       "      <td>0</td>\n",
       "      <td>2</td>\n",
       "      <td>10</td>\n",
       "      <td>0</td>\n",
       "      <td>6</td>\n",
       "    </tr>\n",
       "  </tbody>\n",
       "</table>\n",
       "<p>5 rows × 22 columns</p>\n",
       "</div>"
      ],
      "text/plain": [
       "   animal_id_outcome  dob_year  dob_month  animal_type  breed  color  \\\n",
       "0                  0        15          6            2   1707    441   \n",
       "1                  0        15          6            2   1707    441   \n",
       "2                  0        15          6            2   1707    441   \n",
       "3                  1        12          3            2    718    375   \n",
       "4                  2         5          9            2   1618    154   \n",
       "\n",
       "   intake_condition  intake_type  count  age_upon_intake_age_group  ...  \\\n",
       "0                 3            3      1                          8  ...   \n",
       "1                 3            2      1                          7  ...   \n",
       "2                 3            2      1                          7  ...   \n",
       "3                 3            1      1                          8  ...   \n",
       "4                 2            2      1                          3  ...   \n",
       "\n",
       "   intake_weekday  intake_hour  time_in_shelter_days  \\\n",
       "0               4           14                   762   \n",
       "1               0           10                  1719   \n",
       "2               0           14                  1512   \n",
       "3               6           15                  5082   \n",
       "4               2            9                   171   \n",
       "\n",
       "   age_upon_outcome_age_group  outcome_month  outcome_year  outcome_weekday  \\\n",
       "0                           8             11             4                4   \n",
       "1                           7             11             1                2   \n",
       "2                           7              2             1                2   \n",
       "3                           8              3             1                1   \n",
       "4                           3             10             0                2   \n",
       "\n",
       "   outcome_hour  outcome_number  outcome_type  \n",
       "0             0               0             6  \n",
       "1            15               1             6  \n",
       "2            16               2             6  \n",
       "3            14               0             4  \n",
       "4            10               0             6  \n",
       "\n",
       "[5 rows x 22 columns]"
      ]
     },
     "execution_count": 15,
     "metadata": {},
     "output_type": "execute_result"
    }
   ],
   "source": [
    "train.head()"
   ]
  },
  {
   "cell_type": "code",
   "execution_count": 16,
   "metadata": {},
   "outputs": [
    {
     "name": "stdout",
     "output_type": "stream",
     "text": [
      "<class 'pandas.core.frame.DataFrame'>\n",
      "RangeIndex: 47803 entries, 0 to 47802\n",
      "Data columns (total 22 columns):\n",
      " #   Column                      Non-Null Count  Dtype\n",
      "---  ------                      --------------  -----\n",
      " 0   animal_id_outcome           47803 non-null  int32\n",
      " 1   dob_year                    47803 non-null  int64\n",
      " 2   dob_month                   47803 non-null  int64\n",
      " 3   animal_type                 47803 non-null  int32\n",
      " 4   breed                       47803 non-null  int32\n",
      " 5   color                       47803 non-null  int32\n",
      " 6   intake_condition            47803 non-null  int32\n",
      " 7   intake_type                 47803 non-null  int32\n",
      " 8   count                       47803 non-null  int64\n",
      " 9   age_upon_intake_age_group   47803 non-null  int32\n",
      " 10  intake_month                47803 non-null  int64\n",
      " 11  intake_year                 47803 non-null  int64\n",
      " 12  intake_weekday              47803 non-null  int32\n",
      " 13  intake_hour                 47803 non-null  int64\n",
      " 14  time_in_shelter_days        47803 non-null  int64\n",
      " 15  age_upon_outcome_age_group  47803 non-null  int32\n",
      " 16  outcome_month               47803 non-null  int64\n",
      " 17  outcome_year                47803 non-null  int64\n",
      " 18  outcome_weekday             47803 non-null  int32\n",
      " 19  outcome_hour                47803 non-null  int64\n",
      " 20  outcome_number              47803 non-null  int64\n",
      " 21  outcome_type                47803 non-null  int32\n",
      "dtypes: int32(11), int64(11)\n",
      "memory usage: 6.0 MB\n"
     ]
    }
   ],
   "source": [
    "train.info()"
   ]
  },
  {
   "cell_type": "markdown",
   "metadata": {},
   "source": [
    "# Splitting the train dataset"
   ]
  },
  {
   "cell_type": "code",
   "execution_count": 17,
   "metadata": {},
   "outputs": [],
   "source": [
    "X= train.iloc[:,train.columns!='outcome_type']\n",
    "y =train.outcome_type"
   ]
  },
  {
   "cell_type": "code",
   "execution_count": 18,
   "metadata": {},
   "outputs": [],
   "source": [
    "from sklearn.model_selection import train_test_split\n",
    "X_train,X_test,y_train,y_test = train_test_split(X,y,test_size=0.2, random_state=42)"
   ]
  },
  {
   "cell_type": "code",
   "execution_count": 19,
   "metadata": {},
   "outputs": [
    {
     "name": "stdout",
     "output_type": "stream",
     "text": [
      "(38242, 21)\n",
      "(38242,)\n",
      "(9561, 21)\n",
      "(9561,)\n"
     ]
    },
    {
     "data": {
      "text/plain": [
       "(None, None)"
      ]
     },
     "execution_count": 19,
     "metadata": {},
     "output_type": "execute_result"
    }
   ],
   "source": [
    "print(X_train.shape), print(y_train.shape)\n",
    "print(X_test.shape), print(y_test.shape)"
   ]
  },
  {
   "cell_type": "markdown",
   "metadata": {},
   "source": [
    "# Feature Selection: Using Chi square"
   ]
  },
  {
   "cell_type": "code",
   "execution_count": 20,
   "metadata": {},
   "outputs": [
    {
     "name": "stdout",
     "output_type": "stream",
     "text": [
      "[4.03625162e+06 1.72917094e+03 5.38065355e+01 1.13042704e+03\n",
      " 8.02876621e+04 3.42201076e+04 3.31365597e+02 4.06102114e+02\n",
      " 6.15095637e-29 1.47209790e+04 1.70172590e+02 3.88128262e+02\n",
      " 3.30027505e+01 5.15811991e+01 4.88213324e+07 1.46166502e+04\n",
      " 1.80968589e+02 3.62789908e+02 5.68014305e+01 2.13787162e+03\n",
      " 3.49009300e+03]\n"
     ]
    }
   ],
   "source": [
    "import sklearn\n",
    "from sklearn.feature_selection import SelectKBest\n",
    "from sklearn.feature_selection import chi2\n",
    "\n",
    "chi2 = SelectKBest(score_func=chi2, k='all')\n",
    "model_chi2 = chi2.fit(X_train, y_train)\n",
    "\n",
    "print(model_chi2.scores_)\n",
    "features_select =model_chi2.transform(X_train)"
   ]
  },
  {
   "cell_type": "code",
   "execution_count": 21,
   "metadata": {},
   "outputs": [],
   "source": [
    "features=np.array([1.72917094e+03 ,5.38065355e+01, 1.13042704e+03 ,8.02876621e+04,\n",
    " 3.42201076e+04, 3.31365597e+02, 4.06102114e+02, 6.15095637e-29,\n",
    " 1.47209790e+04, 1.70172590e+02, 3.88128262e+02, 3.30027505e+01,\n",
    " 5.15811991e+01, 4.88213324e+07, 1.46166502e+04, 1.80968589e+02,\n",
    " 3.62789908e+02, 5.68014305e+01, 2.13787162e+03, 3.49009300e+03])"
   ]
  },
  {
   "cell_type": "code",
   "execution_count": 22,
   "metadata": {},
   "outputs": [],
   "source": [
    "features=pd.DataFrame(features)"
   ]
  },
  {
   "cell_type": "code",
   "execution_count": 23,
   "metadata": {},
   "outputs": [
    {
     "data": {
      "text/plain": [
       "<AxesSubplot:>"
      ]
     },
     "execution_count": 23,
     "metadata": {},
     "output_type": "execute_result"
    },
    {
     "data": {
      "image/png": "[encoded data removed]",
      "text/plain": [
       "<Figure size 432x288 with 1 Axes>"
      ]
     },
     "metadata": {
      "needs_background": "light"
     },
     "output_type": "display_data"
    }
   ],
   "source": [
    "features.plot.bar()"
   ]
  },
  {
   "cell_type": "markdown",
   "metadata": {},
   "source": [
    "# Feature Selection:Using Mutual info classifier"
   ]
  },
  {
   "cell_type": "code",
   "execution_count": 24,
   "metadata": {},
   "outputs": [],
   "source": [
    "from sklearn.feature_selection import mutual_info_classif\n",
    "\n",
    "mic = SelectKBest(score_func=mutual_info_classif, k='all')\n",
    "model_mic=mic.fit(X_train, y_train)\n",
    "features_select = model_mic.transform(X_train)"
   ]
  },
  {
   "cell_type": "code",
   "execution_count": 25,
   "metadata": {},
   "outputs": [
    {
     "name": "stdout",
     "output_type": "stream",
     "text": [
      "Feature 0: 0.151470\n",
      "Feature 1: 0.059776\n",
      "Feature 2: 0.004861\n",
      "Feature 3: 0.159972\n",
      "Feature 4: 0.197233\n",
      "Feature 5: 0.094980\n",
      "Feature 6: 0.065218\n",
      "Feature 7: 0.160866\n",
      "Feature 8: 0.001705\n",
      "Feature 9: 0.052448\n",
      "Feature 10: 0.014625\n",
      "Feature 11: 0.012985\n",
      "Feature 12: 0.000000\n",
      "Feature 13: 0.019266\n",
      "Feature 14: 0.297212\n",
      "Feature 15: 0.052438\n",
      "Feature 16: 0.006371\n",
      "Feature 17: 0.014061\n",
      "Feature 18: 0.014233\n",
      "Feature 19: 0.079630\n",
      "Feature 20: 0.035786\n"
     ]
    },
    {
     "data": {
      "image/png": "[encoded data removed]",
      "text/plain": [
       "<Figure size 432x288 with 1 Axes>"
      ]
     },
     "metadata": {
      "needs_background": "light"
     },
     "output_type": "display_data"
    }
   ],
   "source": [
    "for i in range(len(model_mic.scores_)):\n",
    "    print('Feature %d: %f' % (i, model_mic.scores_[i]))\n",
    "    \n",
    "plt.bar([i for i in range(len(model_mic.scores_))], model_mic.scores_)\n",
    "plt.show()  "
   ]
  },
  {
   "cell_type": "markdown",
   "metadata": {},
   "source": [
    "# Decision tree"
   ]
  },
  {
   "cell_type": "code",
   "execution_count": 26,
   "metadata": {},
   "outputs": [
    {
     "name": "stdout",
     "output_type": "stream",
     "text": [
      "0.4610636402822367\n"
     ]
    }
   ],
   "source": [
    "from sklearn.tree import  DecisionTreeClassifier\n",
    "model_dt=DecisionTreeClassifier()\n",
    "model_dt.fit(X_train,y_train)\n",
    "\n",
    "from sklearn.model_selection import cross_val_score\n",
    "results = cross_val_score(model_dt,X_train, y_train)\n",
    "print(results.mean())"
   ]
  },
  {
   "cell_type": "code",
   "execution_count": 27,
   "metadata": {},
   "outputs": [
    {
     "name": "stdout",
     "output_type": "stream",
     "text": [
      "Feature: 0, Score: 0.11388\n",
      "Feature: 1, Score: 0.03951\n",
      "Feature: 2, Score: 0.04632\n",
      "Feature: 3, Score: 0.09497\n",
      "Feature: 4, Score: 0.05749\n",
      "Feature: 5, Score: 0.07410\n",
      "Feature: 6, Score: 0.02788\n",
      "Feature: 7, Score: 0.07245\n",
      "Feature: 8, Score: 0.00000\n",
      "Feature: 9, Score: 0.00765\n",
      "Feature: 10, Score: 0.02767\n",
      "Feature: 11, Score: 0.00909\n",
      "Feature: 12, Score: 0.03750\n",
      "Feature: 13, Score: 0.05233\n",
      "Feature: 14, Score: 0.19082\n",
      "Feature: 15, Score: 0.00660\n",
      "Feature: 16, Score: 0.02634\n",
      "Feature: 17, Score: 0.01093\n",
      "Feature: 18, Score: 0.03586\n",
      "Feature: 19, Score: 0.05811\n",
      "Feature: 20, Score: 0.01051\n"
     ]
    },
    {
     "data": {
      "image/png": "[encoded data removed]",
      "text/plain": [
       "<Figure size 432x288 with 1 Axes>"
      ]
     },
     "metadata": {
      "needs_background": "light"
     },
     "output_type": "display_data"
    }
   ],
   "source": [
    " #get importance\n",
    "imp = model_dt.feature_importances_\n",
    "#summarize feature importance\n",
    "for i,v in enumerate(imp):\n",
    "    print('Feature: %0d, Score: %.5f' % (i,v))\n",
    "#plot feature importance\n",
    "plt.bar([x for x in range(len(imp))], imp)\n",
    "plt.show()"
   ]
  },
  {
   "cell_type": "markdown",
   "metadata": {},
   "source": [
    "# Final columns to be dropped are as follows"
   ]
  },
  {
   "cell_type": "code",
   "execution_count": 28,
   "metadata": {},
   "outputs": [],
   "source": [
    "new_data =train"
   ]
  },
  {
   "cell_type": "code",
   "execution_count": 29,
   "metadata": {},
   "outputs": [
    {
     "data": {
      "text/plain": [
       "(47803, 15)"
      ]
     },
     "execution_count": 29,
     "metadata": {},
     "output_type": "execute_result"
    }
   ],
   "source": [
    "train = train.drop(columns=[\"age_upon_intake_age_group\",\"age_upon_outcome_age_group\",'count',\n",
    "       'intake_year', 'intake_weekday','outcome_year', 'outcome_weekday' ])\n",
    "train.shape"
   ]
  },
  {
   "cell_type": "code",
   "execution_count": 30,
   "metadata": {},
   "outputs": [
    {
     "data": {
      "text/plain": [
       "Index(['animal_id_outcome', 'dob_year', 'dob_month', 'animal_type', 'breed',\n",
       "       'color', 'intake_condition', 'intake_type', 'intake_month',\n",
       "       'intake_hour', 'time_in_shelter_days', 'outcome_month', 'outcome_hour',\n",
       "       'outcome_number', 'outcome_type'],\n",
       "      dtype='object')"
      ]
     },
     "execution_count": 30,
     "metadata": {},
     "output_type": "execute_result"
    }
   ],
   "source": [
    "train.columns"
   ]
  },
  {
   "cell_type": "markdown",
   "metadata": {},
   "source": [
    "### Splitting the dataset"
   ]
  },
  {
   "cell_type": "code",
   "execution_count": 31,
   "metadata": {},
   "outputs": [],
   "source": [
    "from sklearn.model_selection import train_test_split\n",
    "x_train,x_test,Y_train,Y_test = train_test_split(new_data,y,test_size=0.2, random_state=42)"
   ]
  },
  {
   "cell_type": "code",
   "execution_count": 32,
   "metadata": {},
   "outputs": [
    {
     "name": "stdout",
     "output_type": "stream",
     "text": [
      "(38242, 22)\n",
      "(38242,)\n",
      "(9561, 22)\n",
      "(9561,)\n"
     ]
    },
    {
     "data": {
      "text/plain": [
       "(None, None)"
      ]
     },
     "execution_count": 32,
     "metadata": {},
     "output_type": "execute_result"
    }
   ],
   "source": [
    "print(x_train.shape), print(Y_train.shape)\n",
    "print(x_test.shape), print(Y_test.shape)"
   ]
  },
  {
   "cell_type": "code",
   "execution_count": 33,
   "metadata": {},
   "outputs": [
    {
     "name": "stdout",
     "output_type": "stream",
     "text": [
      "<class 'pandas.core.frame.DataFrame'>\n",
      "RangeIndex: 47803 entries, 0 to 47802\n",
      "Data columns (total 22 columns):\n",
      " #   Column                      Non-Null Count  Dtype\n",
      "---  ------                      --------------  -----\n",
      " 0   animal_id_outcome           47803 non-null  int32\n",
      " 1   dob_year                    47803 non-null  int64\n",
      " 2   dob_month                   47803 non-null  int64\n",
      " 3   animal_type                 47803 non-null  int32\n",
      " 4   breed                       47803 non-null  int32\n",
      " 5   color                       47803 non-null  int32\n",
      " 6   intake_condition            47803 non-null  int32\n",
      " 7   intake_type                 47803 non-null  int32\n",
      " 8   count                       47803 non-null  int64\n",
      " 9   age_upon_intake_age_group   47803 non-null  int32\n",
      " 10  intake_month                47803 non-null  int64\n",
      " 11  intake_year                 47803 non-null  int64\n",
      " 12  intake_weekday              47803 non-null  int32\n",
      " 13  intake_hour                 47803 non-null  int64\n",
      " 14  time_in_shelter_days        47803 non-null  int64\n",
      " 15  age_upon_outcome_age_group  47803 non-null  int32\n",
      " 16  outcome_month               47803 non-null  int64\n",
      " 17  outcome_year                47803 non-null  int64\n",
      " 18  outcome_weekday             47803 non-null  int32\n",
      " 19  outcome_hour                47803 non-null  int64\n",
      " 20  outcome_number              47803 non-null  int64\n",
      " 21  outcome_type                47803 non-null  int32\n",
      "dtypes: int32(11), int64(11)\n",
      "memory usage: 6.0 MB\n"
     ]
    }
   ],
   "source": [
    "new_data.info()"
   ]
  },
  {
   "cell_type": "markdown",
   "metadata": {},
   "source": [
    "# 1)LOGISTIC REGRESSION"
   ]
  },
  {
   "cell_type": "code",
   "execution_count": 34,
   "metadata": {},
   "outputs": [
    {
     "data": {
      "text/plain": [
       "LogisticRegression(solver='liblinear')"
      ]
     },
     "execution_count": 34,
     "metadata": {},
     "output_type": "execute_result"
    }
   ],
   "source": [
    "from sklearn.linear_model import LogisticRegression\n",
    "model_log=LogisticRegression(solver='liblinear')\n",
    "model_log.fit(x_train,Y_train)"
   ]
  },
  {
   "cell_type": "code",
   "execution_count": 35,
   "metadata": {},
   "outputs": [
    {
     "name": "stdout",
     "output_type": "stream",
     "text": [
      "0.7434368789875536\n",
      "[[2571    0    0    0    0    0    0    0    0]\n",
      " [ 398   14    0  156    0    0    6    0    0]\n",
      " [   0    3    0   21    1    2    0    0    0]\n",
      " [   0    6    1  471   42   15  243    4    0]\n",
      " [   0    2    0   58  105   68  281   12    0]\n",
      " [   0    0    0   27   28   79  329   65    1]\n",
      " [   0    0    0    1    0    4 1780   33  112]\n",
      " [   0    0    0    0    0    1  127   22  352]\n",
      " [   0    0    0    0    0    0   53    1 2066]]\n",
      "              precision    recall  f1-score   support\n",
      "\n",
      "           0       0.87      1.00      0.93      2571\n",
      "           1       0.56      0.02      0.05       574\n",
      "           2       0.00      0.00      0.00        27\n",
      "           3       0.64      0.60      0.62       782\n",
      "           4       0.60      0.20      0.30       526\n",
      "           5       0.47      0.15      0.23       529\n",
      "           6       0.63      0.92      0.75      1930\n",
      "           7       0.16      0.04      0.07       502\n",
      "           8       0.82      0.97      0.89      2120\n",
      "\n",
      "    accuracy                           0.74      9561\n",
      "   macro avg       0.53      0.44      0.43      9561\n",
      "weighted avg       0.69      0.74      0.68      9561\n",
      "\n"
     ]
    }
   ],
   "source": [
    "from sklearn.metrics import accuracy_score, classification_report, confusion_matrix\n",
    "\n",
    "Y_pred = model_log.predict(x_test)\n",
    "print(accuracy_score(Y_test, Y_pred))\n",
    "print(confusion_matrix(Y_test, Y_pred))\n",
    "print(classification_report(Y_test, Y_pred))"
   ]
  },
  {
   "cell_type": "code",
   "execution_count": 37,
   "metadata": {},
   "outputs": [
    {
     "data": {
      "text/plain": [
       "0.7434368789875536"
      ]
     },
     "execution_count": 37,
     "metadata": {},
     "output_type": "execute_result"
    }
   ],
   "source": [
    "from sklearn.metrics import f1_score\n",
    "f1_score(Y_test, Y_pred, average='micro')"
   ]
  },
  {
   "cell_type": "markdown",
   "metadata": {},
   "source": [
    "# 2)Decision Tree"
   ]
  },
  {
   "cell_type": "code",
   "execution_count": 38,
   "metadata": {},
   "outputs": [
    {
     "data": {
      "text/plain": [
       "DecisionTreeClassifier()"
      ]
     },
     "execution_count": 38,
     "metadata": {},
     "output_type": "execute_result"
    }
   ],
   "source": [
    "from sklearn.tree import  DecisionTreeClassifier\n",
    "\n",
    "model_dt=DecisionTreeClassifier()\n",
    "model_dt.fit(x_train,Y_train)"
   ]
  },
  {
   "cell_type": "code",
   "execution_count": 39,
   "metadata": {},
   "outputs": [
    {
     "name": "stdout",
     "output_type": "stream",
     "text": [
      "1.0\n",
      "[[2571    0    0    0    0    0    0    0    0]\n",
      " [   0  574    0    0    0    0    0    0    0]\n",
      " [   0    0   27    0    0    0    0    0    0]\n",
      " [   0    0    0  782    0    0    0    0    0]\n",
      " [   0    0    0    0  526    0    0    0    0]\n",
      " [   0    0    0    0    0  529    0    0    0]\n",
      " [   0    0    0    0    0    0 1930    0    0]\n",
      " [   0    0    0    0    0    0    0  502    0]\n",
      " [   0    0    0    0    0    0    0    0 2120]]\n",
      "              precision    recall  f1-score   support\n",
      "\n",
      "           0       1.00      1.00      1.00      2571\n",
      "           1       1.00      1.00      1.00       574\n",
      "           2       1.00      1.00      1.00        27\n",
      "           3       1.00      1.00      1.00       782\n",
      "           4       1.00      1.00      1.00       526\n",
      "           5       1.00      1.00      1.00       529\n",
      "           6       1.00      1.00      1.00      1930\n",
      "           7       1.00      1.00      1.00       502\n",
      "           8       1.00      1.00      1.00      2120\n",
      "\n",
      "    accuracy                           1.00      9561\n",
      "   macro avg       1.00      1.00      1.00      9561\n",
      "weighted avg       1.00      1.00      1.00      9561\n",
      "\n"
     ]
    }
   ],
   "source": [
    "from sklearn.metrics import accuracy_score, classification_report, confusion_matrix\n",
    "\n",
    "Y_pred = model_dt.predict(x_test)\n",
    "print(accuracy_score(Y_test, Y_pred))\n",
    "print(confusion_matrix(Y_test, Y_pred))\n",
    "print(classification_report(Y_test, Y_pred))"
   ]
  },
  {
   "cell_type": "code",
   "execution_count": 40,
   "metadata": {},
   "outputs": [
    {
     "data": {
      "text/plain": [
       "1.0"
      ]
     },
     "execution_count": 40,
     "metadata": {},
     "output_type": "execute_result"
    }
   ],
   "source": [
    "from sklearn.metrics import f1_score\n",
    "f1_score(Y_test, Y_pred, average='micro')"
   ]
  },
  {
   "cell_type": "markdown",
   "metadata": {},
   "source": [
    "# 3)Random Forest"
   ]
  },
  {
   "cell_type": "code",
   "execution_count": 41,
   "metadata": {},
   "outputs": [
    {
     "data": {
      "text/plain": [
       "RandomForestClassifier()"
      ]
     },
     "execution_count": 41,
     "metadata": {},
     "output_type": "execute_result"
    }
   ],
   "source": [
    "from sklearn.ensemble import RandomForestClassifier\n",
    "\n",
    "num_trees = 100\n",
    "model_rf = RandomForestClassifier(n_estimators=num_trees)\n",
    "model_rf.fit(x_train,Y_train)"
   ]
  },
  {
   "cell_type": "code",
   "execution_count": 42,
   "metadata": {},
   "outputs": [
    {
     "name": "stdout",
     "output_type": "stream",
     "text": [
      "0.9914234912666039\n",
      "[[2571    0    0    0    0    0    0    0    0]\n",
      " [   0  564    1    7    1    1    0    0    0]\n",
      " [   0    2   23    2    0    0    0    0    0]\n",
      " [   0    1    1  762   18    0    0    0    0]\n",
      " [   0    0    0    9  508    9    0    0    0]\n",
      " [   0    0    0    3    7  518    1    0    0]\n",
      " [   0    0    0    0    0    8 1921    1    0]\n",
      " [   0    0    0    0    0    2    8  492    0]\n",
      " [   0    0    0    0    0    0    0    0 2120]]\n",
      "              precision    recall  f1-score   support\n",
      "\n",
      "           0       1.00      1.00      1.00      2571\n",
      "           1       0.99      0.98      0.99       574\n",
      "           2       0.92      0.85      0.88        27\n",
      "           3       0.97      0.97      0.97       782\n",
      "           4       0.95      0.97      0.96       526\n",
      "           5       0.96      0.98      0.97       529\n",
      "           6       1.00      1.00      1.00      1930\n",
      "           7       1.00      0.98      0.99       502\n",
      "           8       1.00      1.00      1.00      2120\n",
      "\n",
      "    accuracy                           0.99      9561\n",
      "   macro avg       0.98      0.97      0.97      9561\n",
      "weighted avg       0.99      0.99      0.99      9561\n",
      "\n"
     ]
    }
   ],
   "source": [
    "from sklearn.metrics import accuracy_score, classification_report, confusion_matrix\n",
    "\n",
    "Y_pred = model_rf.predict(x_test)\n",
    "print(accuracy_score(Y_test, Y_pred))\n",
    "print(confusion_matrix(Y_test, Y_pred))\n",
    "print(classification_report(Y_test, Y_pred))"
   ]
  },
  {
   "cell_type": "code",
   "execution_count": 43,
   "metadata": {},
   "outputs": [
    {
     "data": {
      "text/plain": [
       "0.9914234912666039"
      ]
     },
     "execution_count": 43,
     "metadata": {},
     "output_type": "execute_result"
    }
   ],
   "source": [
    "from sklearn.metrics import f1_score\n",
    "f1_score(Y_test, Y_pred, average='micro')"
   ]
  },
  {
   "cell_type": "markdown",
   "metadata": {},
   "source": [
    "# 4)Support vector Classifier"
   ]
  },
  {
   "cell_type": "code",
   "execution_count": 44,
   "metadata": {},
   "outputs": [
    {
     "data": {
      "text/plain": [
       "SVC()"
      ]
     },
     "execution_count": 44,
     "metadata": {},
     "output_type": "execute_result"
    }
   ],
   "source": [
    "from sklearn.svm import SVC\n",
    "\n",
    "model_svc= SVC()\n",
    "model_svc.fit(x_train,Y_train)"
   ]
  },
  {
   "cell_type": "code",
   "execution_count": 45,
   "metadata": {},
   "outputs": [
    {
     "name": "stdout",
     "output_type": "stream",
     "text": [
      "0.4012132622110658\n",
      "[[2320    0    0    0    0    0  130    0  121]\n",
      " [ 402    0    0    0    0    0   53    0  119]\n",
      " [   8    0    0    0    0    0    1    0   18]\n",
      " [ 163    0    0    0    0    0  158    0  461]\n",
      " [ 381    0    0    0    0    0   38    0  107]\n",
      " [ 381    0    0    0    0    0   48    0  100]\n",
      " [ 553    0    0    0    0    0  667    0  710]\n",
      " [ 379    0    0    0    0    0   31    0   92]\n",
      " [1088    0    0    0    0    0  183    0  849]]\n",
      "              precision    recall  f1-score   support\n",
      "\n",
      "           0       0.41      0.90      0.56      2571\n",
      "           1       0.00      0.00      0.00       574\n",
      "           2       0.00      0.00      0.00        27\n",
      "           3       0.00      0.00      0.00       782\n",
      "           4       0.00      0.00      0.00       526\n",
      "           5       0.00      0.00      0.00       529\n",
      "           6       0.51      0.35      0.41      1930\n",
      "           7       0.00      0.00      0.00       502\n",
      "           8       0.33      0.40      0.36      2120\n",
      "\n",
      "    accuracy                           0.40      9561\n",
      "   macro avg       0.14      0.18      0.15      9561\n",
      "weighted avg       0.29      0.40      0.31      9561\n",
      "\n"
     ]
    },
    {
     "name": "stderr",
     "output_type": "stream",
     "text": [
      "C:\\Users\\DELL\\anaconda3\\lib\\site-packages\\sklearn\\metrics\\_classification.py:1221: UndefinedMetricWarning: Precision and F-score are ill-defined and being set to 0.0 in labels with no predicted samples. Use `zero_division` parameter to control this behavior.\n",
      "  _warn_prf(average, modifier, msg_start, len(result))\n"
     ]
    }
   ],
   "source": [
    "from sklearn.metrics import accuracy_score, classification_report, confusion_matrix\n",
    "\n",
    "Y_pred = model_svc.predict(x_test)\n",
    "print(accuracy_score(Y_test, Y_pred))\n",
    "print(confusion_matrix(Y_test, Y_pred))\n",
    "print(classification_report(Y_test, Y_pred))"
   ]
  },
  {
   "cell_type": "code",
   "execution_count": 46,
   "metadata": {},
   "outputs": [
    {
     "data": {
      "text/plain": [
       "0.4012132622110658"
      ]
     },
     "execution_count": 46,
     "metadata": {},
     "output_type": "execute_result"
    }
   ],
   "source": [
    "from sklearn.metrics import f1_score\n",
    "f1_score(Y_test, Y_pred, average='micro')"
   ]
  },
  {
   "cell_type": "markdown",
   "metadata": {},
   "source": [
    "# 5)Gausian NB"
   ]
  },
  {
   "cell_type": "code",
   "execution_count": 47,
   "metadata": {},
   "outputs": [
    {
     "data": {
      "text/plain": [
       "GaussianNB()"
      ]
     },
     "execution_count": 47,
     "metadata": {},
     "output_type": "execute_result"
    }
   ],
   "source": [
    "from sklearn.naive_bayes import GaussianNB\n",
    "\n",
    "model_nb = GaussianNB()\n",
    "model_nb.fit(x_train,Y_train)"
   ]
  },
  {
   "cell_type": "code",
   "execution_count": 48,
   "metadata": {},
   "outputs": [
    {
     "name": "stdout",
     "output_type": "stream",
     "text": [
      "0.9653801903566572\n",
      "[[2532   39    0    0    0    0    0    0    0]\n",
      " [  21  535   18    0    0    0    0    0    0]\n",
      " [   0    5   20    2    0    0    0    0    0]\n",
      " [   0    0   22  733   27    0    0    0    0]\n",
      " [   0    0    0   27  496    0    3    0    0]\n",
      " [   0    0    0    0    0  468   61    0    0]\n",
      " [   0    0    0    0    0   19 1894   17    0]\n",
      " [   0    0    0    0    0    0   42  437   23]\n",
      " [   0    0    0    0    0    0    0    5 2115]]\n",
      "              precision    recall  f1-score   support\n",
      "\n",
      "           0       0.99      0.98      0.99      2571\n",
      "           1       0.92      0.93      0.93       574\n",
      "           2       0.33      0.74      0.46        27\n",
      "           3       0.96      0.94      0.95       782\n",
      "           4       0.95      0.94      0.95       526\n",
      "           5       0.96      0.88      0.92       529\n",
      "           6       0.95      0.98      0.96      1930\n",
      "           7       0.95      0.87      0.91       502\n",
      "           8       0.99      1.00      0.99      2120\n",
      "\n",
      "    accuracy                           0.97      9561\n",
      "   macro avg       0.89      0.92      0.90      9561\n",
      "weighted avg       0.97      0.97      0.97      9561\n",
      "\n"
     ]
    }
   ],
   "source": [
    "from sklearn.metrics import accuracy_score, classification_report, confusion_matrix\n",
    "\n",
    "Y_pred = model_nb.predict(x_test)\n",
    "print(accuracy_score(Y_test, Y_pred))\n",
    "print(confusion_matrix(Y_test, Y_pred))\n",
    "print(classification_report(Y_test, Y_pred))"
   ]
  },
  {
   "cell_type": "code",
   "execution_count": 49,
   "metadata": {},
   "outputs": [
    {
     "data": {
      "text/plain": [
       "0.9653801903566572"
      ]
     },
     "execution_count": 49,
     "metadata": {},
     "output_type": "execute_result"
    }
   ],
   "source": [
    "from sklearn.metrics import f1_score\n",
    "f1_score(Y_test, Y_pred, average='micro')"
   ]
  },
  {
   "cell_type": "markdown",
   "metadata": {},
   "source": [
    "# So here decision tree is giving 100% accuracy,so ignoring this one and random forest giving best accuracy,so predicting the model on random forest."
   ]
  },
  {
   "cell_type": "markdown",
   "metadata": {},
   "source": [
    "# TEST DATA SET"
   ]
  },
  {
   "cell_type": "code",
   "execution_count": 50,
   "metadata": {},
   "outputs": [],
   "source": [
    "drop=[\"outcome_datetime\",\"intake_datetime\",\n",
    "                    'date_of_birth','intake_monthyear','intake_datetime',\n",
    "                    'outcome_monthyear','outcome_datetime','time_in_shelter',\n",
    "                   'age_upon_intake','age_upon_outcome','age_upon_intake_(days)','age_upon_intake_(years)','age_upon_outcome_(days)',\n",
    "                'age_upon_outcome_(years)','intake_number','sex_upon_intake','sex_upon_outcome']\n",
    "test.drop(drop,axis=1,inplace=True)\n"
   ]
  },
  {
   "cell_type": "code",
   "execution_count": 51,
   "metadata": {},
   "outputs": [
    {
     "data": {
      "text/plain": [
       "(31869, 14)"
      ]
     },
     "execution_count": 51,
     "metadata": {},
     "output_type": "execute_result"
    }
   ],
   "source": [
    "test = test.drop(columns=[\"age_upon_intake_age_group\",\"age_upon_outcome_age_group\",'count',\n",
    "       'intake_year', 'intake_weekday','outcome_year', 'outcome_weekday' ])\n",
    "test.shape"
   ]
  },
  {
   "cell_type": "code",
   "execution_count": 52,
   "metadata": {},
   "outputs": [
    {
     "data": {
      "text/plain": [
       "Index(['animal_id_outcome', 'dob_year', 'dob_month', 'animal_type', 'breed',\n",
       "       'color', 'intake_condition', 'intake_type', 'intake_month',\n",
       "       'intake_hour', 'time_in_shelter_days', 'outcome_month', 'outcome_hour',\n",
       "       'outcome_number'],\n",
       "      dtype='object')"
      ]
     },
     "execution_count": 52,
     "metadata": {},
     "output_type": "execute_result"
    }
   ],
   "source": [
    "test.columns"
   ]
  },
  {
   "cell_type": "code",
   "execution_count": 53,
   "metadata": {},
   "outputs": [],
   "source": [
    "from sklearn.preprocessing import LabelEncoder\n",
    "label = LabelEncoder()\n",
    "test['dob_year']=label.fit_transform(test.dob_year)\n",
    "test['dob_month']=label.fit_transform(test.dob_month)\n",
    "test['animal_type']=label.fit_transform(test.animal_type)\n",
    "test['breed']=label.fit_transform(test.breed)\n",
    "test['color']=label.fit_transform(test.color)\n",
    "test['intake_condition']=label.fit_transform(test.intake_condition)\n",
    "test['intake_type']=label.fit_transform(test.intake_type)\n",
    "test['intake_month']=label.fit_transform(test.intake_month)\n",
    "test['intake_hour']=label.fit_transform(test.intake_hour)\n",
    "test['time_in_shelter_days']=label.fit_transform(test.time_in_shelter_days)\n",
    "test['outcome_month']=label.fit_transform(test.outcome_month)\n",
    "test['outcome_hour']=label.fit_transform(test.outcome_hour)\n",
    "test['outcome_number']=label.fit_transform(test.outcome_number)\n",
    "test['animal_id_outcome']=label.fit_transform(test.animal_id_outcome)\n"
   ]
  },
  {
   "cell_type": "code",
   "execution_count": 54,
   "metadata": {},
   "outputs": [
    {
     "data": {
      "text/html": [
       "<div>\n",
       "<style scoped>\n",
       "    .dataframe tbody tr th:only-of-type {\n",
       "        vertical-align: middle;\n",
       "    }\n",
       "\n",
       "    .dataframe tbody tr th {\n",
       "        vertical-align: top;\n",
       "    }\n",
       "\n",
       "    .dataframe thead th {\n",
       "        text-align: right;\n",
       "    }\n",
       "</style>\n",
       "<table border=\"1\" class=\"dataframe\">\n",
       "  <thead>\n",
       "    <tr style=\"text-align: right;\">\n",
       "      <th></th>\n",
       "      <th>animal_id_outcome</th>\n",
       "      <th>dob_year</th>\n",
       "      <th>dob_month</th>\n",
       "      <th>animal_type</th>\n",
       "      <th>breed</th>\n",
       "      <th>color</th>\n",
       "      <th>intake_condition</th>\n",
       "      <th>intake_type</th>\n",
       "      <th>intake_month</th>\n",
       "      <th>intake_hour</th>\n",
       "      <th>time_in_shelter_days</th>\n",
       "      <th>outcome_month</th>\n",
       "      <th>outcome_hour</th>\n",
       "      <th>outcome_number</th>\n",
       "    </tr>\n",
       "  </thead>\n",
       "  <tbody>\n",
       "    <tr>\n",
       "      <th>0</th>\n",
       "      <td>0</td>\n",
       "      <td>20</td>\n",
       "      <td>2</td>\n",
       "      <td>1</td>\n",
       "      <td>455</td>\n",
       "      <td>99</td>\n",
       "      <td>4</td>\n",
       "      <td>3</td>\n",
       "      <td>2</td>\n",
       "      <td>11</td>\n",
       "      <td>4850</td>\n",
       "      <td>3</td>\n",
       "      <td>15</td>\n",
       "      <td>0</td>\n",
       "    </tr>\n",
       "    <tr>\n",
       "      <th>1</th>\n",
       "      <td>1</td>\n",
       "      <td>23</td>\n",
       "      <td>1</td>\n",
       "      <td>1</td>\n",
       "      <td>455</td>\n",
       "      <td>99</td>\n",
       "      <td>4</td>\n",
       "      <td>3</td>\n",
       "      <td>2</td>\n",
       "      <td>11</td>\n",
       "      <td>12220</td>\n",
       "      <td>3</td>\n",
       "      <td>16</td>\n",
       "      <td>0</td>\n",
       "    </tr>\n",
       "    <tr>\n",
       "      <th>2</th>\n",
       "      <td>2</td>\n",
       "      <td>23</td>\n",
       "      <td>1</td>\n",
       "      <td>1</td>\n",
       "      <td>455</td>\n",
       "      <td>99</td>\n",
       "      <td>4</td>\n",
       "      <td>3</td>\n",
       "      <td>2</td>\n",
       "      <td>11</td>\n",
       "      <td>11997</td>\n",
       "      <td>3</td>\n",
       "      <td>0</td>\n",
       "      <td>0</td>\n",
       "    </tr>\n",
       "    <tr>\n",
       "      <th>3</th>\n",
       "      <td>3</td>\n",
       "      <td>23</td>\n",
       "      <td>1</td>\n",
       "      <td>1</td>\n",
       "      <td>455</td>\n",
       "      <td>99</td>\n",
       "      <td>4</td>\n",
       "      <td>3</td>\n",
       "      <td>2</td>\n",
       "      <td>11</td>\n",
       "      <td>11803</td>\n",
       "      <td>3</td>\n",
       "      <td>12</td>\n",
       "      <td>0</td>\n",
       "    </tr>\n",
       "    <tr>\n",
       "      <th>4</th>\n",
       "      <td>4</td>\n",
       "      <td>23</td>\n",
       "      <td>1</td>\n",
       "      <td>1</td>\n",
       "      <td>455</td>\n",
       "      <td>63</td>\n",
       "      <td>4</td>\n",
       "      <td>3</td>\n",
       "      <td>2</td>\n",
       "      <td>11</td>\n",
       "      <td>12463</td>\n",
       "      <td>4</td>\n",
       "      <td>10</td>\n",
       "      <td>0</td>\n",
       "    </tr>\n",
       "  </tbody>\n",
       "</table>\n",
       "</div>"
      ],
      "text/plain": [
       "   animal_id_outcome  dob_year  dob_month  animal_type  breed  color  \\\n",
       "0                  0        20          2            1    455     99   \n",
       "1                  1        23          1            1    455     99   \n",
       "2                  2        23          1            1    455     99   \n",
       "3                  3        23          1            1    455     99   \n",
       "4                  4        23          1            1    455     63   \n",
       "\n",
       "   intake_condition  intake_type  intake_month  intake_hour  \\\n",
       "0                 4            3             2           11   \n",
       "1                 4            3             2           11   \n",
       "2                 4            3             2           11   \n",
       "3                 4            3             2           11   \n",
       "4                 4            3             2           11   \n",
       "\n",
       "   time_in_shelter_days  outcome_month  outcome_hour  outcome_number  \n",
       "0                  4850              3            15               0  \n",
       "1                 12220              3            16               0  \n",
       "2                 11997              3             0               0  \n",
       "3                 11803              3            12               0  \n",
       "4                 12463              4            10               0  "
      ]
     },
     "execution_count": 54,
     "metadata": {},
     "output_type": "execute_result"
    }
   ],
   "source": [
    "test.head()"
   ]
  },
  {
   "cell_type": "code",
   "execution_count": 55,
   "metadata": {},
   "outputs": [
    {
     "data": {
      "text/plain": [
       "((47803, 21), (9561, 21))"
      ]
     },
     "execution_count": 55,
     "metadata": {},
     "output_type": "execute_result"
    }
   ],
   "source": [
    "X.shape,X_test.shape"
   ]
  },
  {
   "cell_type": "code",
   "execution_count": 56,
   "metadata": {},
   "outputs": [
    {
     "data": {
      "text/plain": [
       "(47803,)"
      ]
     },
     "execution_count": 56,
     "metadata": {},
     "output_type": "execute_result"
    }
   ],
   "source": [
    "y.shape"
   ]
  },
  {
   "cell_type": "code",
   "execution_count": 57,
   "metadata": {},
   "outputs": [],
   "source": [
    "from sklearn.ensemble import RandomForestClassifier\n",
    "\n",
    "y = train[\"outcome_type\"]\n",
    "\n",
    "features = ['dob_year', 'dob_month', 'animal_type', 'breed', 'color',\n",
    "       'intake_condition', 'intake_type', 'intake_month', 'intake_hour',\n",
    "       'time_in_shelter_days', 'outcome_month', 'outcome_hour',\n",
    "       'outcome_number']\n",
    "X= train.iloc[:,train.columns!='outcome_type']\n",
    "X_test = test.iloc[:,test.columns!='outcome_type']\n",
    "\n",
    "model = RandomForestClassifier(n_estimators=100, max_depth=5, random_state=1)\n",
    "model.fit(X, y)\n",
    "predictions = model.predict(X_test)\n",
    "\n"
   ]
  },
  {
   "cell_type": "code",
   "execution_count": 58,
   "metadata": {},
   "outputs": [
    {
     "name": "stderr",
     "output_type": "stream",
     "text": [
      "C:\\Users\\DELL\\anaconda3\\lib\\site-packages\\seaborn\\_decorators.py:36: FutureWarning: Pass the following variables as keyword args: x, y. From version 0.12, the only valid positional argument will be `data`, and passing other arguments without an explicit keyword will result in an error or misinterpretation.\n",
      "  warnings.warn(\n"
     ]
    },
    {
     "data": {
      "image/png": "[encoded data removed]",
      "text/plain": [
       "<Figure size 864x576 with 1 Axes>"
      ]
     },
     "metadata": {
      "needs_background": "light"
     },
     "output_type": "display_data"
    }
   ],
   "source": [
    "import matplotlib.pyplot as plt\n",
    "import seaborn as sns\n",
    "import pandas as pd\n",
    "output = pd.read_csv(\"sample_submission.csv\")\n",
    "\n",
    "output[\"outcome_type\"].value_counts() # Predicted Values\n",
    "#pred_Values = df1[\"outcome_type\"].value_counts(normalize=True) #For relative Frequencies\n",
    "pred_Values = output[\"outcome_type\"].value_counts()\n",
    "plt.figure(figsize=(12,8))\n",
    "sns.barplot(pred_Values.index, pred_Values.values, alpha=1.0, dodge=False)\n",
    "plt.title('PREDICTED VALUES BY THE MODEL, ABOUT ANIMAL STATE ON 31,809 VALUES OF TEST DATA')\n",
    "plt.ylabel('Number of Animals', fontsize=12)\n",
    "plt.xlabel('Animal State', fontsize=12)\n",
    "plt.show()"
   ]
  },
  {
   "cell_type": "code",
   "execution_count": 59,
   "metadata": {},
   "outputs": [
    {
     "name": "stderr",
     "output_type": "stream",
     "text": [
      "C:\\Users\\DELL\\anaconda3\\lib\\site-packages\\seaborn\\_decorators.py:36: FutureWarning: Pass the following variables as keyword args: x, y. From version 0.12, the only valid positional argument will be `data`, and passing other arguments without an explicit keyword will result in an error or misinterpretation.\n",
      "  warnings.warn(\n"
     ]
    },
    {
     "data": {
      "image/png": "[encoded data removed]",
      "text/plain": [
       "<Figure size 864x576 with 1 Axes>"
      ]
     },
     "metadata": {
      "needs_background": "light"
     },
     "output_type": "display_data"
    }
   ],
   "source": [
    "output_train = pd.read_csv(\"train.csv\")\n",
    "\n",
    "output_train[\"outcome_type\"].value_counts() #Original DataSet Target Values\n",
    "#X2[\"outcome_type\"].value_counts(dropna=False)\n",
    "original_Values = output_train[\"outcome_type\"].value_counts()\n",
    "plt.figure(figsize=(12,8))\n",
    "sns.barplot(original_Values.index, original_Values.values, alpha=1.0, dodge=False)\n",
    "plt.title('VALUES GIVEN IN THE TRAIN DATASET , ABOUT ANIMAL STATE ON 47,809 VALUES OF TRAIN DATA')\n",
    "plt.ylabel('Number of Animals', fontsize=12)\n",
    "plt.xlabel('Animal State', fontsize=12)\n",
    "plt.show()"
   ]
  },
  {
   "cell_type": "code",
   "execution_count": 60,
   "metadata": {},
   "outputs": [
    {
     "data": {
      "text/html": [
       "<div>\n",
       "<style scoped>\n",
       "    .dataframe tbody tr th:only-of-type {\n",
       "        vertical-align: middle;\n",
       "    }\n",
       "\n",
       "    .dataframe tbody tr th {\n",
       "        vertical-align: top;\n",
       "    }\n",
       "\n",
       "    .dataframe thead th {\n",
       "        text-align: right;\n",
       "    }\n",
       "</style>\n",
       "<table border=\"1\" class=\"dataframe\">\n",
       "  <thead>\n",
       "    <tr style=\"text-align: right;\">\n",
       "      <th></th>\n",
       "      <th>animal_id_outcome</th>\n",
       "      <th>outcome_type</th>\n",
       "    </tr>\n",
       "  </thead>\n",
       "  <tbody>\n",
       "    <tr>\n",
       "      <th>0</th>\n",
       "      <td>0</td>\n",
       "      <td>6</td>\n",
       "    </tr>\n",
       "    <tr>\n",
       "      <th>1</th>\n",
       "      <td>1</td>\n",
       "      <td>0</td>\n",
       "    </tr>\n",
       "    <tr>\n",
       "      <th>2</th>\n",
       "      <td>2</td>\n",
       "      <td>0</td>\n",
       "    </tr>\n",
       "    <tr>\n",
       "      <th>3</th>\n",
       "      <td>3</td>\n",
       "      <td>0</td>\n",
       "    </tr>\n",
       "    <tr>\n",
       "      <th>4</th>\n",
       "      <td>4</td>\n",
       "      <td>0</td>\n",
       "    </tr>\n",
       "    <tr>\n",
       "      <th>...</th>\n",
       "      <td>...</td>\n",
       "      <td>...</td>\n",
       "    </tr>\n",
       "    <tr>\n",
       "      <th>31864</th>\n",
       "      <td>29277</td>\n",
       "      <td>8</td>\n",
       "    </tr>\n",
       "    <tr>\n",
       "      <th>31865</th>\n",
       "      <td>29278</td>\n",
       "      <td>3</td>\n",
       "    </tr>\n",
       "    <tr>\n",
       "      <th>31866</th>\n",
       "      <td>29279</td>\n",
       "      <td>3</td>\n",
       "    </tr>\n",
       "    <tr>\n",
       "      <th>31867</th>\n",
       "      <td>29280</td>\n",
       "      <td>6</td>\n",
       "    </tr>\n",
       "    <tr>\n",
       "      <th>31868</th>\n",
       "      <td>29281</td>\n",
       "      <td>6</td>\n",
       "    </tr>\n",
       "  </tbody>\n",
       "</table>\n",
       "<p>31869 rows × 2 columns</p>\n",
       "</div>"
      ],
      "text/plain": [
       "       animal_id_outcome  outcome_type\n",
       "0                      0             6\n",
       "1                      1             0\n",
       "2                      2             0\n",
       "3                      3             0\n",
       "4                      4             0\n",
       "...                  ...           ...\n",
       "31864              29277             8\n",
       "31865              29278             3\n",
       "31866              29279             3\n",
       "31867              29280             6\n",
       "31868              29281             6\n",
       "\n",
       "[31869 rows x 2 columns]"
      ]
     },
     "execution_count": 60,
     "metadata": {},
     "output_type": "execute_result"
    }
   ],
   "source": [
    "output = pd.DataFrame({'animal_id_outcome': test.animal_id_outcome, 'outcome_type': predictions})\n",
    "output"
   ]
  },
  {
   "cell_type": "markdown",
   "metadata": {},
   "source": [
    "+ From above visualisation outcome type 0=adoption,1=transfer,2=return to owner,3=Euthanasia,4=Died,5=Missing,6=Relocate,7=Rto-Adoptan, 8=Disposal are belongs"
   ]
  },
  {
   "cell_type": "markdown",
   "metadata": {},
   "source": [
    "+ And I have converted 'animal_id_outcome' to the numberic by using label encoder for better model building"
   ]
  },
  {
   "cell_type": "markdown",
   "metadata": {},
   "source": [
    "+ Train and test dataset is different as some of Euthanasia,missing,relocate,Rto-Adopt and desposal are imbalanced while predicting"
   ]
  },
  {
   "cell_type": "code",
   "execution_count": 61,
   "metadata": {},
   "outputs": [
    {
     "name": "stdout",
     "output_type": "stream",
     "text": [
      "Your submission was successfully saved!\n"
     ]
    }
   ],
   "source": [
    "output.to_csv('challenge_submission.csv', index=False)\n",
    "print(\"Your submission was successfully saved!\")"
   ]
  },
  {
   "cell_type": "code",
   "execution_count": null,
   "metadata": {},
   "outputs": [],
   "source": []
  }
 ],
 "metadata": {
  "kernelspec": {
   "display_name": "Python 3",
   "language": "python",
   "name": "python3"
  },
  "language_info": {
   "codemirror_mode": {
    "name": "ipython",
    "version": 3
   },
   "file_extension": ".py",
   "mimetype": "text/x-python",
   "name": "python",
   "nbconvert_exporter": "python",
   "pygments_lexer": "ipython3",
   "version": "3.8.5"
  }
 },
 "nbformat": 4,
 "nbformat_minor": 4
}
